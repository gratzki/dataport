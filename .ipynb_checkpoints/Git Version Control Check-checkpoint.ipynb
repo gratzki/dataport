{
 "cells": [
  {
   "cell_type": "code",
   "execution_count": 1,
   "id": "f1dfcd44",
   "metadata": {},
   "outputs": [
    {
     "name": "stdout",
     "output_type": "stream",
     "text": [
      "Git Version Control Check.ipynb\n",
      "LW1.1 - Sourcing.ipynb\n",
      "addresses.csv\n",
      "biostats.csv\n"
     ]
    }
   ],
   "source": [
    "%%bash\n",
    "\n",
    "ls"
   ]
  },
  {
   "cell_type": "code",
   "execution_count": 2,
   "id": "3854dff1",
   "metadata": {},
   "outputs": [],
   "source": [
    "%%bash\n",
    "\n",
    "mkdir newdatafolder1"
   ]
  },
  {
   "cell_type": "code",
   "execution_count": 3,
   "id": "161b5133",
   "metadata": {},
   "outputs": [
    {
     "name": "stdout",
     "output_type": "stream",
     "text": [
      "Git Version Control Check.ipynb  biostats.csv\r\n",
      "LW1.1 - Sourcing.ipynb           \u001b[1m\u001b[36mnewdatafolder1\u001b[m\u001b[m/\r\n",
      "addresses.csv\r\n"
     ]
    }
   ],
   "source": [
    "ls"
   ]
  },
  {
   "cell_type": "code",
   "execution_count": 6,
   "id": "30c08f40",
   "metadata": {},
   "outputs": [],
   "source": [
    "%%bash\n",
    "git config --global user.name \"Max Peshkoff\"\n",
    "git config --global user.email maximpeshk@gmail.com\n",
    "git config --global init.default branch main"
   ]
  },
  {
   "cell_type": "code",
   "execution_count": 7,
   "id": "0f593af3",
   "metadata": {},
   "outputs": [],
   "source": [
    "%%bash\n",
    "cd newdatafolder1/"
   ]
  },
  {
   "cell_type": "code",
   "execution_count": 8,
   "id": "242999c0",
   "metadata": {},
   "outputs": [
    {
     "name": "stderr",
     "output_type": "stream",
     "text": [
      "hint: Using 'master' as the name for the initial branch. This default branch name\n",
      "hint: is subject to change. To configure the initial branch name to use in all\n",
      "hint: of your new repositories, which will suppress this warning, call:\n",
      "hint: \n",
      "hint: \tgit config --global init.defaultBranch <name>\n",
      "hint: \n",
      "hint: Names commonly chosen instead of 'master' are 'main', 'trunk' and\n",
      "hint: 'development'. The just-created branch can be renamed via this command:\n",
      "hint: \n",
      "hint: \tgit branch -m <name>\n"
     ]
    },
    {
     "name": "stdout",
     "output_type": "stream",
     "text": [
      "Initialized empty Git repository in /Users/Dude/Desktop/datascience/.git/\n"
     ]
    }
   ],
   "source": [
    "%%bash\n",
    "git init"
   ]
  },
  {
   "cell_type": "code",
   "execution_count": 10,
   "id": "0eb0c776",
   "metadata": {},
   "outputs": [],
   "source": [
    "%%bash\n",
    "touch newtexttile.txt"
   ]
  },
  {
   "cell_type": "code",
   "execution_count": 11,
   "id": "80166219",
   "metadata": {},
   "outputs": [
    {
     "name": "stdout",
     "output_type": "stream",
     "text": [
      "Git Version Control Check.ipynb  biostats.csv\r\n",
      "LW1.1 - Sourcing.ipynb           \u001b[1m\u001b[36mnewdatafolder1\u001b[m\u001b[m/\r\n",
      "addresses.csv                    newtexttile.txt\r\n"
     ]
    }
   ],
   "source": [
    "ls"
   ]
  },
  {
   "cell_type": "code",
   "execution_count": 12,
   "id": "642cb571",
   "metadata": {},
   "outputs": [
    {
     "name": "stdout",
     "output_type": "stream",
     "text": [
      "On branch master\n",
      "\n",
      "No commits yet\n",
      "\n",
      "Untracked files:\n",
      "  (use \"git add <file>...\" to include in what will be committed)\n",
      "\t.ipynb_checkpoints/\n",
      "\tGit Version Control Check.ipynb\n",
      "\tLW1.1 - Sourcing.ipynb\n",
      "\taddresses.csv\n",
      "\tbiostats.csv\n",
      "\tnewtexttile.txt\n",
      "\n",
      "nothing added to commit but untracked files present (use \"git add\" to track)\n"
     ]
    }
   ],
   "source": [
    "%%bash\n",
    "git status"
   ]
  },
  {
   "cell_type": "code",
   "execution_count": 15,
   "id": "61204d63",
   "metadata": {},
   "outputs": [],
   "source": [
    "%%bash\n",
    "git add newtexttile.txt"
   ]
  },
  {
   "cell_type": "code",
   "execution_count": 16,
   "id": "b4296840",
   "metadata": {},
   "outputs": [
    {
     "name": "stdout",
     "output_type": "stream",
     "text": [
      "On branch master\n",
      "\n",
      "No commits yet\n",
      "\n",
      "Changes to be committed:\n",
      "  (use \"git rm --cached <file>...\" to unstage)\n",
      "\tnew file:   newtexttile.txt\n",
      "\n",
      "Untracked files:\n",
      "  (use \"git add <file>...\" to include in what will be committed)\n",
      "\t.ipynb_checkpoints/\n",
      "\tGit Version Control Check.ipynb\n",
      "\tLW1.1 - Sourcing.ipynb\n",
      "\taddresses.csv\n",
      "\tbiostats.csv\n",
      "\n"
     ]
    }
   ],
   "source": [
    "%%bash\n",
    "git status"
   ]
  },
  {
   "cell_type": "code",
   "execution_count": 17,
   "id": "64762ea7",
   "metadata": {},
   "outputs": [],
   "source": [
    "%%bash\n",
    "git mv \"newtexttile.txt\" \"newdatafolder1/\""
   ]
  },
  {
   "cell_type": "code",
   "execution_count": 18,
   "id": "f74eda21",
   "metadata": {},
   "outputs": [
    {
     "name": "stdout",
     "output_type": "stream",
     "text": [
      "Git Version Control Check.ipynb\n",
      "LW1.1 - Sourcing.ipynb\n",
      "addresses.csv\n",
      "biostats.csv\n",
      "\u001b[1m\u001b[36mnewdatafolder1\u001b[m\u001b[m\n"
     ]
    }
   ],
   "source": [
    "%%bash\n",
    "ls"
   ]
  },
  {
   "cell_type": "code",
   "execution_count": 22,
   "id": "9ddb6825",
   "metadata": {},
   "outputs": [
    {
     "name": "stdout",
     "output_type": "stream",
     "text": [
      "newtexttile.txt\n"
     ]
    }
   ],
   "source": [
    "%%bash\n",
    "cd newdatafolder1/\n",
    "ls"
   ]
  },
  {
   "cell_type": "code",
   "execution_count": 23,
   "id": "f43767d8",
   "metadata": {},
   "outputs": [
    {
     "name": "stdout",
     "output_type": "stream",
     "text": [
      "On branch master\n",
      "\n",
      "No commits yet\n",
      "\n",
      "Changes to be committed:\n",
      "  (use \"git rm --cached <file>...\" to unstage)\n",
      "\tnew file:   newdatafolder1/newtexttile.txt\n",
      "\n",
      "Untracked files:\n",
      "  (use \"git add <file>...\" to include in what will be committed)\n",
      "\t.ipynb_checkpoints/\n",
      "\tGit Version Control Check.ipynb\n",
      "\tLW1.1 - Sourcing.ipynb\n",
      "\taddresses.csv\n",
      "\tbiostats.csv\n",
      "\n"
     ]
    }
   ],
   "source": [
    "%%bash\n",
    "git status"
   ]
  },
  {
   "cell_type": "code",
   "execution_count": 25,
   "id": "4a0aabae",
   "metadata": {},
   "outputs": [
    {
     "name": "stdout",
     "output_type": "stream",
     "text": [
      "[master (root-commit) 0b3993c] created new text file and moved to new data folder\n",
      " 1 file changed, 0 insertions(+), 0 deletions(-)\n",
      " create mode 100644 newdatafolder1/newtexttile.txt\n"
     ]
    }
   ],
   "source": [
    "%%bash\n",
    "git commit -m\"created new text file and moved to new data folder\" "
   ]
  },
  {
   "cell_type": "code",
   "execution_count": 27,
   "id": "83ab470a",
   "metadata": {},
   "outputs": [
    {
     "name": "stdout",
     "output_type": "stream",
     "text": [
      "On branch master\n",
      "Untracked files:\n",
      "  (use \"git add <file>...\" to include in what will be committed)\n",
      "\t.ipynb_checkpoints/\n",
      "\tGit Version Control Check.ipynb\n",
      "\tLW1.1 - Sourcing.ipynb\n",
      "\taddresses.csv\n",
      "\tbiostats.csv\n",
      "\n",
      "nothing added to commit but untracked files present (use \"git add\" to track)\n"
     ]
    }
   ],
   "source": [
    "%%bash\n",
    "git status"
   ]
  },
  {
   "cell_type": "code",
   "execution_count": 29,
   "id": "b29bd76d",
   "metadata": {},
   "outputs": [],
   "source": [
    "%%bash\n",
    "cd newdatafolder1/"
   ]
  },
  {
   "cell_type": "code",
   "execution_count": 30,
   "id": "e945da91",
   "metadata": {},
   "outputs": [
    {
     "name": "stdout",
     "output_type": "stream",
     "text": [
      "Git Version Control Check.ipynb\n",
      "LW1.1 - Sourcing.ipynb\n",
      "addresses.csv\n",
      "biostats.csv\n",
      "\u001b[1m\u001b[36mnewdatafolder1\u001b[m\u001b[m\n"
     ]
    }
   ],
   "source": [
    "%%bash\n",
    "ls"
   ]
  },
  {
   "cell_type": "code",
   "execution_count": 31,
   "id": "8c447eaa",
   "metadata": {},
   "outputs": [
    {
     "name": "stdout",
     "output_type": "stream",
     "text": [
      "On branch master\n",
      "Changes not staged for commit:\n",
      "  (use \"git add <file>...\" to update what will be committed)\n",
      "  (use \"git restore <file>...\" to discard changes in working directory)\n",
      "\tmodified:   newdatafolder1/newtexttile.txt\n",
      "\n",
      "Untracked files:\n",
      "  (use \"git add <file>...\" to include in what will be committed)\n",
      "\t.ipynb_checkpoints/\n",
      "\tGit Version Control Check.ipynb\n",
      "\tLW1.1 - Sourcing.ipynb\n",
      "\taddresses.csv\n",
      "\tbiostats.csv\n",
      "\n",
      "no changes added to commit (use \"git add\" and/or \"git commit -a\")\n"
     ]
    }
   ],
   "source": [
    "%%bash\n",
    "git status"
   ]
  },
  {
   "cell_type": "code",
   "execution_count": 35,
   "id": "4574d9f4",
   "metadata": {},
   "outputs": [
    {
     "name": "stdout",
     "output_type": "stream",
     "text": [
      "diff --git a/newdatafolder1/newtexttile.txt b/newdatafolder1/newtexttile.txt\n",
      "index e69de29..a12ee50 100644\n",
      "--- a/newdatafolder1/newtexttile.txt\n",
      "+++ b/newdatafolder1/newtexttile.txt\n",
      "@@ -0,0 +1 @@\n",
      "+Here is some inputted text\n",
      "\\ No newline at end of file\n"
     ]
    }
   ],
   "source": [
    "%%bash\n",
    "git diff"
   ]
  },
  {
   "cell_type": "code",
   "execution_count": 37,
   "id": "e1412559",
   "metadata": {},
   "outputs": [
    {
     "name": "stdout",
     "output_type": "stream",
     "text": [
      "On branch master\n",
      "Changes not staged for commit:\n",
      "  (use \"git add <file>...\" to update what will be committed)\n",
      "  (use \"git restore <file>...\" to discard changes in working directory)\n",
      "\tmodified:   newdatafolder1/newtexttile.txt\n",
      "\n",
      "Untracked files:\n",
      "  (use \"git add <file>...\" to include in what will be committed)\n",
      "\t.ipynb_checkpoints/\n",
      "\tGit Version Control Check.ipynb\n",
      "\tLW1.1 - Sourcing.ipynb\n",
      "\taddresses.csv\n",
      "\tbiostats.csv\n",
      "\n",
      "no changes added to commit (use \"git add\" and/or \"git commit -a\")\n"
     ]
    }
   ],
   "source": [
    "%%bash\n",
    "git status"
   ]
  },
  {
   "cell_type": "code",
   "execution_count": 39,
   "id": "a5ae5b5a",
   "metadata": {},
   "outputs": [
    {
     "name": "stdout",
     "output_type": "stream",
     "text": [
      "[master f258523] text inputted into text file\n",
      " 1 file changed, 1 insertion(+)\n"
     ]
    }
   ],
   "source": [
    "%%bash\n",
    "git commit -a -m \"text inputted into text file\""
   ]
  },
  {
   "cell_type": "code",
   "execution_count": 40,
   "id": "f6a71af8",
   "metadata": {},
   "outputs": [
    {
     "name": "stdout",
     "output_type": "stream",
     "text": [
      "On branch master\n",
      "Untracked files:\n",
      "  (use \"git add <file>...\" to include in what will be committed)\n",
      "\t.ipynb_checkpoints/\n",
      "\tGit Version Control Check.ipynb\n",
      "\tLW1.1 - Sourcing.ipynb\n",
      "\taddresses.csv\n",
      "\tbiostats.csv\n",
      "\n",
      "nothing added to commit but untracked files present (use \"git add\" to track)\n"
     ]
    }
   ],
   "source": [
    "%%bash\n",
    "git status"
   ]
  },
  {
   "cell_type": "code",
   "execution_count": 44,
   "id": "a3dc0004",
   "metadata": {},
   "outputs": [
    {
     "name": "stdout",
     "output_type": "stream",
     "text": [
      "rm 'newdatafolder1/newtexttile.txt'\n"
     ]
    }
   ],
   "source": [
    "%%bash\n",
    "git rm \"newdatafolder1/newtexttile.txt\""
   ]
  },
  {
   "cell_type": "code",
   "execution_count": 45,
   "id": "48da91c1",
   "metadata": {},
   "outputs": [
    {
     "name": "stdout",
     "output_type": "stream",
     "text": [
      "On branch master\n",
      "Changes to be committed:\n",
      "  (use \"git restore --staged <file>...\" to unstage)\n",
      "\tdeleted:    newdatafolder1/newtexttile.txt\n",
      "\n",
      "Untracked files:\n",
      "  (use \"git add <file>...\" to include in what will be committed)\n",
      "\t.ipynb_checkpoints/\n",
      "\tGit Version Control Check.ipynb\n",
      "\tLW1.1 - Sourcing.ipynb\n",
      "\taddresses.csv\n",
      "\tbiostats.csv\n",
      "\n"
     ]
    }
   ],
   "source": [
    "%%bash\n",
    "git status"
   ]
  },
  {
   "cell_type": "code",
   "execution_count": 46,
   "id": "9a7c50b1",
   "metadata": {},
   "outputs": [],
   "source": [
    "%%bash\n",
    "git restore --staged \"newdatafolder1/newtexttile.txt\""
   ]
  },
  {
   "cell_type": "code",
   "execution_count": 50,
   "id": "82f7061c",
   "metadata": {},
   "outputs": [
    {
     "name": "stdout",
     "output_type": "stream",
     "text": [
      "Git Version Control Check.ipynb\n",
      "LW1.1 - Sourcing.ipynb\n",
      "addresses.csv\n",
      "biostats.csv\n"
     ]
    }
   ],
   "source": [
    "%%bash\n",
    "ls"
   ]
  },
  {
   "cell_type": "code",
   "execution_count": 53,
   "id": "cb375dd4",
   "metadata": {},
   "outputs": [],
   "source": [
    "%%bash\n",
    "git restore \"newdatafolder1/newtexttile.txt\""
   ]
  },
  {
   "cell_type": "code",
   "execution_count": 54,
   "id": "3118991f",
   "metadata": {},
   "outputs": [
    {
     "name": "stdout",
     "output_type": "stream",
     "text": [
      "Git Version Control Check.ipynb  biostats.csv\r\n",
      "LW1.1 - Sourcing.ipynb           \u001b[1m\u001b[36mnewdatafolder1\u001b[m\u001b[m/\r\n",
      "addresses.csv\r\n"
     ]
    }
   ],
   "source": [
    "ls"
   ]
  },
  {
   "cell_type": "code",
   "execution_count": 56,
   "id": "d50624eb",
   "metadata": {},
   "outputs": [
    {
     "name": "stdout",
     "output_type": "stream",
     "text": [
      "On branch master\n",
      "Untracked files:\n",
      "  (use \"git add <file>...\" to include in what will be committed)\n",
      "\t.ipynb_checkpoints/\n",
      "\tGit Version Control Check.ipynb\n",
      "\tLW1.1 - Sourcing.ipynb\n",
      "\taddresses.csv\n",
      "\tbiostats.csv\n",
      "\n",
      "nothing added to commit but untracked files present (use \"git add\" to track)\n"
     ]
    }
   ],
   "source": [
    "%%bash\n",
    "git status"
   ]
  },
  {
   "cell_type": "code",
   "execution_count": 57,
   "id": "61f2fea2",
   "metadata": {},
   "outputs": [],
   "source": [
    "%%bash\n",
    "git add ."
   ]
  },
  {
   "cell_type": "code",
   "execution_count": 58,
   "id": "f23c8c45",
   "metadata": {},
   "outputs": [
    {
     "name": "stdout",
     "output_type": "stream",
     "text": [
      "[master 044ff05] commit after restoring lost file\n",
      " 6 files changed, 1743 insertions(+)\n",
      " create mode 100644 .ipynb_checkpoints/Git Version Control Check-checkpoint.ipynb\n",
      " create mode 100644 .ipynb_checkpoints/LW1.1 - Sourcing-checkpoint.ipynb\n",
      " create mode 100644 Git Version Control Check.ipynb\n",
      " create mode 100644 LW1.1 - Sourcing.ipynb\n",
      " create mode 100644 addresses.csv\n",
      " create mode 100644 biostats.csv\n"
     ]
    }
   ],
   "source": [
    "%%bash\n",
    "git commit -m \"commit after restoring lost file\""
   ]
  },
  {
   "cell_type": "code",
   "execution_count": 59,
   "id": "9ba93e67",
   "metadata": {},
   "outputs": [
    {
     "name": "stdout",
     "output_type": "stream",
     "text": [
      "commit 044ff0596284142af648a5e14e6403c2d94ffbb6\n",
      "Author: Max Peshkoff <maximpeshk@gmail.com>\n",
      "Date:   Wed May 3 16:19:36 2023 +0200\n",
      "\n",
      "    commit after restoring lost file\n",
      "\n",
      "commit f2585231938a092b316a74771f4a5519b70ab720\n",
      "Author: Max Peshkoff <maximpeshk@gmail.com>\n",
      "Date:   Wed May 3 16:12:53 2023 +0200\n",
      "\n",
      "    text inputted into text file\n",
      "\n",
      "commit 0b3993cf24dc05993659c651ccf306e266625dac\n",
      "Author: Max Peshkoff <maximpeshk@gmail.com>\n",
      "Date:   Wed May 3 16:07:06 2023 +0200\n",
      "\n",
      "    created new text file and moved to new data folder\n"
     ]
    }
   ],
   "source": [
    "%%bash\n",
    "git log"
   ]
  },
  {
   "cell_type": "code",
   "execution_count": null,
   "id": "a7674bad",
   "metadata": {},
   "outputs": [],
   "source": []
  }
 ],
 "metadata": {
  "kernelspec": {
   "display_name": "Python 3 (ipykernel)",
   "language": "python",
   "name": "python3"
  },
  "language_info": {
   "codemirror_mode": {
    "name": "ipython",
    "version": 3
   },
   "file_extension": ".py",
   "mimetype": "text/x-python",
   "name": "python",
   "nbconvert_exporter": "python",
   "pygments_lexer": "ipython3",
   "version": "3.9.8"
  }
 },
 "nbformat": 4,
 "nbformat_minor": 5
}
