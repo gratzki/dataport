{
 "cells": [
  {
   "cell_type": "code",
   "execution_count": 1,
   "id": "ab1f0af5",
   "metadata": {},
   "outputs": [
    {
     "name": "stdout",
     "output_type": "stream",
     "text": [
      "Git Version Control Check.ipynb\n",
      "LW1.1 - Sourcing.ipynb\n",
      "addresses.csv\n",
      "biostats.csv\n"
     ]
    }
   ],
   "source": [
    "%%bash\n",
    "\n",
    "ls"
   ]
  },
  {
   "cell_type": "code",
   "execution_count": 2,
   "id": "051d90d7",
   "metadata": {},
   "outputs": [],
   "source": [
    "%%bash\n",
    "\n",
    "mkdir newdatafolder1"
   ]
  },
  {
   "cell_type": "code",
   "execution_count": 3,
   "id": "6f77cc1e",
   "metadata": {},
   "outputs": [
    {
     "name": "stdout",
     "output_type": "stream",
     "text": [
      "Git Version Control Check.ipynb  biostats.csv\r\n",
      "LW1.1 - Sourcing.ipynb           \u001b[1m\u001b[36mnewdatafolder1\u001b[m\u001b[m/\r\n",
      "addresses.csv\r\n"
     ]
    }
   ],
   "source": [
    "ls"
   ]
  },
  {
   "cell_type": "code",
   "execution_count": 6,
   "id": "a4a91109",
   "metadata": {},
   "outputs": [],
   "source": [
    "%%bash\n",
    "git config --global user.name \"Max Peshkoff\"\n",
    "git config --global user.email maximpeshk@gmail.com\n",
    "git config --global init.default branch main"
   ]
  },
  {
   "cell_type": "code",
   "execution_count": 7,
   "id": "6fc777d9",
   "metadata": {},
   "outputs": [],
   "source": [
    "%%bash\n",
    "cd newdatafolder1/"
   ]
  },
  {
   "cell_type": "code",
   "execution_count": 8,
   "id": "ce8f4672",
   "metadata": {},
   "outputs": [
    {
     "name": "stderr",
     "output_type": "stream",
     "text": [
      "hint: Using 'master' as the name for the initial branch. This default branch name\n",
      "hint: is subject to change. To configure the initial branch name to use in all\n",
      "hint: of your new repositories, which will suppress this warning, call:\n",
      "hint: \n",
      "hint: \tgit config --global init.defaultBranch <name>\n",
      "hint: \n",
      "hint: Names commonly chosen instead of 'master' are 'main', 'trunk' and\n",
      "hint: 'development'. The just-created branch can be renamed via this command:\n",
      "hint: \n",
      "hint: \tgit branch -m <name>\n"
     ]
    },
    {
     "name": "stdout",
     "output_type": "stream",
     "text": [
      "Initialized empty Git repository in /Users/Dude/Desktop/datascience/.git/\n"
     ]
    }
   ],
   "source": [
    "%%bash\n",
    "git init"
   ]
  },
  {
   "cell_type": "code",
   "execution_count": 10,
   "id": "8d811d8c",
   "metadata": {},
   "outputs": [],
   "source": [
    "%%bash\n",
    "touch newtexttile.txt"
   ]
  },
  {
   "cell_type": "code",
   "execution_count": 11,
   "id": "d20a73f4",
   "metadata": {},
   "outputs": [
    {
     "name": "stdout",
     "output_type": "stream",
     "text": [
      "Git Version Control Check.ipynb  biostats.csv\r\n",
      "LW1.1 - Sourcing.ipynb           \u001b[1m\u001b[36mnewdatafolder1\u001b[m\u001b[m/\r\n",
      "addresses.csv                    newtexttile.txt\r\n"
     ]
    }
   ],
   "source": [
    "ls"
   ]
  },
  {
   "cell_type": "code",
   "execution_count": 12,
   "id": "d7724e73",
   "metadata": {},
   "outputs": [
    {
     "name": "stdout",
     "output_type": "stream",
     "text": [
      "On branch master\n",
      "\n",
      "No commits yet\n",
      "\n",
      "Untracked files:\n",
      "  (use \"git add <file>...\" to include in what will be committed)\n",
      "\t.ipynb_checkpoints/\n",
      "\tGit Version Control Check.ipynb\n",
      "\tLW1.1 - Sourcing.ipynb\n",
      "\taddresses.csv\n",
      "\tbiostats.csv\n",
      "\tnewtexttile.txt\n",
      "\n",
      "nothing added to commit but untracked files present (use \"git add\" to track)\n"
     ]
    }
   ],
   "source": [
    "%%bash\n",
    "git status"
   ]
  },
  {
   "cell_type": "code",
   "execution_count": 15,
   "id": "afed204f",
   "metadata": {},
   "outputs": [],
   "source": [
    "%%bash\n",
    "git add newtexttile.txt"
   ]
  },
  {
   "cell_type": "code",
   "execution_count": 16,
   "id": "f06f9dfc",
   "metadata": {},
   "outputs": [
    {
     "name": "stdout",
     "output_type": "stream",
     "text": [
      "On branch master\n",
      "\n",
      "No commits yet\n",
      "\n",
      "Changes to be committed:\n",
      "  (use \"git rm --cached <file>...\" to unstage)\n",
      "\tnew file:   newtexttile.txt\n",
      "\n",
      "Untracked files:\n",
      "  (use \"git add <file>...\" to include in what will be committed)\n",
      "\t.ipynb_checkpoints/\n",
      "\tGit Version Control Check.ipynb\n",
      "\tLW1.1 - Sourcing.ipynb\n",
      "\taddresses.csv\n",
      "\tbiostats.csv\n",
      "\n"
     ]
    }
   ],
   "source": [
    "%%bash\n",
    "git status"
   ]
  },
  {
   "cell_type": "code",
   "execution_count": 17,
   "id": "48950fab",
   "metadata": {},
   "outputs": [],
   "source": [
    "%%bash\n",
    "git mv \"newtexttile.txt\" \"newdatafolder1/\""
   ]
  },
  {
   "cell_type": "code",
   "execution_count": 18,
   "id": "5490466d",
   "metadata": {},
   "outputs": [
    {
     "name": "stdout",
     "output_type": "stream",
     "text": [
      "Git Version Control Check.ipynb\n",
      "LW1.1 - Sourcing.ipynb\n",
      "addresses.csv\n",
      "biostats.csv\n",
      "\u001b[1m\u001b[36mnewdatafolder1\u001b[m\u001b[m\n"
     ]
    }
   ],
   "source": [
    "%%bash\n",
    "ls"
   ]
  },
  {
   "cell_type": "code",
   "execution_count": 22,
   "id": "c6b91d53",
   "metadata": {},
   "outputs": [
    {
     "name": "stdout",
     "output_type": "stream",
     "text": [
      "newtexttile.txt\n"
     ]
    }
   ],
   "source": [
    "%%bash\n",
    "cd newdatafolder1/\n",
    "ls"
   ]
  },
  {
   "cell_type": "code",
   "execution_count": 23,
   "id": "adf6542f",
   "metadata": {},
   "outputs": [
    {
     "name": "stdout",
     "output_type": "stream",
     "text": [
      "On branch master\n",
      "\n",
      "No commits yet\n",
      "\n",
      "Changes to be committed:\n",
      "  (use \"git rm --cached <file>...\" to unstage)\n",
      "\tnew file:   newdatafolder1/newtexttile.txt\n",
      "\n",
      "Untracked files:\n",
      "  (use \"git add <file>...\" to include in what will be committed)\n",
      "\t.ipynb_checkpoints/\n",
      "\tGit Version Control Check.ipynb\n",
      "\tLW1.1 - Sourcing.ipynb\n",
      "\taddresses.csv\n",
      "\tbiostats.csv\n",
      "\n"
     ]
    }
   ],
   "source": [
    "%%bash\n",
    "git status"
   ]
  },
  {
   "cell_type": "code",
   "execution_count": 25,
   "id": "49129fa0",
   "metadata": {},
   "outputs": [
    {
     "name": "stdout",
     "output_type": "stream",
     "text": [
      "[master (root-commit) 0b3993c] created new text file and moved to new data folder\n",
      " 1 file changed, 0 insertions(+), 0 deletions(-)\n",
      " create mode 100644 newdatafolder1/newtexttile.txt\n"
     ]
    }
   ],
   "source": [
    "%%bash\n",
    "git commit -m\"created new text file and moved to new data folder\" "
   ]
  },
  {
   "cell_type": "code",
   "execution_count": 27,
   "id": "3cba25e1",
   "metadata": {},
   "outputs": [
    {
     "name": "stdout",
     "output_type": "stream",
     "text": [
      "On branch master\n",
      "Untracked files:\n",
      "  (use \"git add <file>...\" to include in what will be committed)\n",
      "\t.ipynb_checkpoints/\n",
      "\tGit Version Control Check.ipynb\n",
      "\tLW1.1 - Sourcing.ipynb\n",
      "\taddresses.csv\n",
      "\tbiostats.csv\n",
      "\n",
      "nothing added to commit but untracked files present (use \"git add\" to track)\n"
     ]
    }
   ],
   "source": [
    "%%bash\n",
    "git status"
   ]
  },
  {
   "cell_type": "code",
   "execution_count": 29,
   "id": "f3e16e9b",
   "metadata": {},
   "outputs": [],
   "source": [
    "%%bash\n",
    "cd newdatafolder1/"
   ]
  },
  {
   "cell_type": "code",
   "execution_count": 30,
   "id": "a1066fbc",
   "metadata": {},
   "outputs": [
    {
     "name": "stdout",
     "output_type": "stream",
     "text": [
      "Git Version Control Check.ipynb\n",
      "LW1.1 - Sourcing.ipynb\n",
      "addresses.csv\n",
      "biostats.csv\n",
      "\u001b[1m\u001b[36mnewdatafolder1\u001b[m\u001b[m\n"
     ]
    }
   ],
   "source": [
    "%%bash\n",
    "ls"
   ]
  },
  {
   "cell_type": "code",
   "execution_count": 31,
   "id": "011c3938",
   "metadata": {},
   "outputs": [
    {
     "name": "stdout",
     "output_type": "stream",
     "text": [
      "On branch master\n",
      "Changes not staged for commit:\n",
      "  (use \"git add <file>...\" to update what will be committed)\n",
      "  (use \"git restore <file>...\" to discard changes in working directory)\n",
      "\tmodified:   newdatafolder1/newtexttile.txt\n",
      "\n",
      "Untracked files:\n",
      "  (use \"git add <file>...\" to include in what will be committed)\n",
      "\t.ipynb_checkpoints/\n",
      "\tGit Version Control Check.ipynb\n",
      "\tLW1.1 - Sourcing.ipynb\n",
      "\taddresses.csv\n",
      "\tbiostats.csv\n",
      "\n",
      "no changes added to commit (use \"git add\" and/or \"git commit -a\")\n"
     ]
    }
   ],
   "source": [
    "%%bash\n",
    "git status"
   ]
  },
  {
   "cell_type": "code",
   "execution_count": 35,
   "id": "a7d7f5b2",
   "metadata": {},
   "outputs": [
    {
     "name": "stdout",
     "output_type": "stream",
     "text": [
      "diff --git a/newdatafolder1/newtexttile.txt b/newdatafolder1/newtexttile.txt\n",
      "index e69de29..a12ee50 100644\n",
      "--- a/newdatafolder1/newtexttile.txt\n",
      "+++ b/newdatafolder1/newtexttile.txt\n",
      "@@ -0,0 +1 @@\n",
      "+Here is some inputted text\n",
      "\\ No newline at end of file\n"
     ]
    }
   ],
   "source": [
    "%%bash\n",
    "git diff"
   ]
  },
  {
   "cell_type": "code",
   "execution_count": 37,
   "id": "8d0168df",
   "metadata": {},
   "outputs": [
    {
     "name": "stdout",
     "output_type": "stream",
     "text": [
      "On branch master\n",
      "Changes not staged for commit:\n",
      "  (use \"git add <file>...\" to update what will be committed)\n",
      "  (use \"git restore <file>...\" to discard changes in working directory)\n",
      "\tmodified:   newdatafolder1/newtexttile.txt\n",
      "\n",
      "Untracked files:\n",
      "  (use \"git add <file>...\" to include in what will be committed)\n",
      "\t.ipynb_checkpoints/\n",
      "\tGit Version Control Check.ipynb\n",
      "\tLW1.1 - Sourcing.ipynb\n",
      "\taddresses.csv\n",
      "\tbiostats.csv\n",
      "\n",
      "no changes added to commit (use \"git add\" and/or \"git commit -a\")\n"
     ]
    }
   ],
   "source": [
    "%%bash\n",
    "git status"
   ]
  },
  {
   "cell_type": "code",
   "execution_count": 39,
   "id": "4215e9d7",
   "metadata": {},
   "outputs": [
    {
     "name": "stdout",
     "output_type": "stream",
     "text": [
      "[master f258523] text inputted into text file\n",
      " 1 file changed, 1 insertion(+)\n"
     ]
    }
   ],
   "source": [
    "%%bash\n",
    "git commit -a -m \"text inputted into text file\""
   ]
  },
  {
   "cell_type": "code",
   "execution_count": 40,
   "id": "f7c0da36",
   "metadata": {},
   "outputs": [
    {
     "name": "stdout",
     "output_type": "stream",
     "text": [
      "On branch master\n",
      "Untracked files:\n",
      "  (use \"git add <file>...\" to include in what will be committed)\n",
      "\t.ipynb_checkpoints/\n",
      "\tGit Version Control Check.ipynb\n",
      "\tLW1.1 - Sourcing.ipynb\n",
      "\taddresses.csv\n",
      "\tbiostats.csv\n",
      "\n",
      "nothing added to commit but untracked files present (use \"git add\" to track)\n"
     ]
    }
   ],
   "source": [
    "%%bash\n",
    "git status"
   ]
  },
  {
   "cell_type": "code",
   "execution_count": 44,
   "id": "de90d762",
   "metadata": {},
   "outputs": [
    {
     "name": "stdout",
     "output_type": "stream",
     "text": [
      "rm 'newdatafolder1/newtexttile.txt'\n"
     ]
    }
   ],
   "source": [
    "%%bash\n",
    "git rm \"newdatafolder1/newtexttile.txt\""
   ]
  },
  {
   "cell_type": "code",
   "execution_count": 45,
   "id": "5807c543",
   "metadata": {},
   "outputs": [
    {
     "name": "stdout",
     "output_type": "stream",
     "text": [
      "On branch master\n",
      "Changes to be committed:\n",
      "  (use \"git restore --staged <file>...\" to unstage)\n",
      "\tdeleted:    newdatafolder1/newtexttile.txt\n",
      "\n",
      "Untracked files:\n",
      "  (use \"git add <file>...\" to include in what will be committed)\n",
      "\t.ipynb_checkpoints/\n",
      "\tGit Version Control Check.ipynb\n",
      "\tLW1.1 - Sourcing.ipynb\n",
      "\taddresses.csv\n",
      "\tbiostats.csv\n",
      "\n"
     ]
    }
   ],
   "source": [
    "%%bash\n",
    "git status"
   ]
  },
  {
   "cell_type": "code",
   "execution_count": 46,
   "id": "b595ae48",
   "metadata": {},
   "outputs": [],
   "source": [
    "%%bash\n",
    "git restore --staged \"newdatafolder1/newtexttile.txt\""
   ]
  },
  {
   "cell_type": "code",
   "execution_count": 50,
   "id": "38743a2d",
   "metadata": {},
   "outputs": [
    {
     "name": "stdout",
     "output_type": "stream",
     "text": [
      "Git Version Control Check.ipynb\n",
      "LW1.1 - Sourcing.ipynb\n",
      "addresses.csv\n",
      "biostats.csv\n"
     ]
    }
   ],
   "source": [
    "%%bash\n",
    "ls"
   ]
  },
  {
   "cell_type": "code",
   "execution_count": 53,
   "id": "cd6898d9",
   "metadata": {},
   "outputs": [],
   "source": [
    "%%bash\n",
    "git restore \"newdatafolder1/newtexttile.txt\""
   ]
  },
  {
   "cell_type": "code",
   "execution_count": 54,
   "id": "f4edcab8",
   "metadata": {},
   "outputs": [
    {
     "name": "stdout",
     "output_type": "stream",
     "text": [
      "Git Version Control Check.ipynb  biostats.csv\r\n",
      "LW1.1 - Sourcing.ipynb           \u001b[1m\u001b[36mnewdatafolder1\u001b[m\u001b[m/\r\n",
      "addresses.csv\r\n"
     ]
    }
   ],
   "source": [
    "ls"
   ]
  },
  {
   "cell_type": "code",
   "execution_count": 56,
   "id": "f42e4eee",
   "metadata": {},
   "outputs": [
    {
     "name": "stdout",
     "output_type": "stream",
     "text": [
      "On branch master\n",
      "Untracked files:\n",
      "  (use \"git add <file>...\" to include in what will be committed)\n",
      "\t.ipynb_checkpoints/\n",
      "\tGit Version Control Check.ipynb\n",
      "\tLW1.1 - Sourcing.ipynb\n",
      "\taddresses.csv\n",
      "\tbiostats.csv\n",
      "\n",
      "nothing added to commit but untracked files present (use \"git add\" to track)\n"
     ]
    }
   ],
   "source": [
    "%%bash\n",
    "git status"
   ]
  },
  {
   "cell_type": "code",
   "execution_count": 57,
   "id": "a6195b1b",
   "metadata": {},
   "outputs": [],
   "source": [
    "%%bash\n",
    "git add ."
   ]
  },
  {
   "cell_type": "code",
   "execution_count": 58,
   "id": "809b7eb1",
   "metadata": {},
   "outputs": [
    {
     "name": "stdout",
     "output_type": "stream",
     "text": [
      "[master 044ff05] commit after restoring lost file\n",
      " 6 files changed, 1743 insertions(+)\n",
      " create mode 100644 .ipynb_checkpoints/Git Version Control Check-checkpoint.ipynb\n",
      " create mode 100644 .ipynb_checkpoints/LW1.1 - Sourcing-checkpoint.ipynb\n",
      " create mode 100644 Git Version Control Check.ipynb\n",
      " create mode 100644 LW1.1 - Sourcing.ipynb\n",
      " create mode 100644 addresses.csv\n",
      " create mode 100644 biostats.csv\n"
     ]
    }
   ],
   "source": [
    "%%bash\n",
    "git commit -m \"commit after restoring lost file\""
   ]
  },
  {
   "cell_type": "code",
   "execution_count": 59,
   "id": "26050f39",
   "metadata": {},
   "outputs": [
    {
     "name": "stdout",
     "output_type": "stream",
     "text": [
      "commit 044ff0596284142af648a5e14e6403c2d94ffbb6\n",
      "Author: Max Peshkoff <maximpeshk@gmail.com>\n",
      "Date:   Wed May 3 16:19:36 2023 +0200\n",
      "\n",
      "    commit after restoring lost file\n",
      "\n",
      "commit f2585231938a092b316a74771f4a5519b70ab720\n",
      "Author: Max Peshkoff <maximpeshk@gmail.com>\n",
      "Date:   Wed May 3 16:12:53 2023 +0200\n",
      "\n",
      "    text inputted into text file\n",
      "\n",
      "commit 0b3993cf24dc05993659c651ccf306e266625dac\n",
      "Author: Max Peshkoff <maximpeshk@gmail.com>\n",
      "Date:   Wed May 3 16:07:06 2023 +0200\n",
      "\n",
      "    created new text file and moved to new data folder\n"
     ]
    }
   ],
   "source": [
    "%%bash\n",
    "git log"
   ]
  },
  {
   "cell_type": "code",
   "execution_count": 60,
   "id": "2fcfe73f",
   "metadata": {},
   "outputs": [
    {
     "name": "stdout",
     "output_type": "stream",
     "text": [
      "044ff05 commit after restoring lost file\n",
      "f258523 text inputted into text file\n",
      "0b3993c created new text file and moved to new data folder\n"
     ]
    }
   ],
   "source": [
    "%%bash\n",
    "git log --oneline"
   ]
  },
  {
   "cell_type": "code",
   "execution_count": 61,
   "id": "66f7c24d",
   "metadata": {
    "scrolled": false
   },
   "outputs": [
    {
     "name": "stdout",
     "output_type": "stream",
     "text": [
      "commit 044ff0596284142af648a5e14e6403c2d94ffbb6\n",
      "Author: Max Peshkoff <maximpeshk@gmail.com>\n",
      "Date:   Wed May 3 16:19:36 2023 +0200\n",
      "\n",
      "    commit after restoring lost file\n",
      "\n",
      "diff --git a/.ipynb_checkpoints/Git Version Control Check-checkpoint.ipynb b/.ipynb_checkpoints/Git Version Control Check-checkpoint.ipynb\n",
      "new file mode 100644\n",
      "index 0000000..625d690\n",
      "--- /dev/null\n",
      "+++ b/.ipynb_checkpoints/Git Version Control Check-checkpoint.ipynb\t\n",
      "@@ -0,0 +1,565 @@\n",
      "+{\n",
      "+ \"cells\": [\n",
      "+  {\n",
      "+   \"cell_type\": \"code\",\n",
      "+   \"execution_count\": 1,\n",
      "+   \"id\": \"6d23fb58\",\n",
      "+   \"metadata\": {},\n",
      "+   \"outputs\": [\n",
      "+    {\n",
      "+     \"name\": \"stdout\",\n",
      "+     \"output_type\": \"stream\",\n",
      "+     \"text\": [\n",
      "+      \"Git Version Control Check.ipynb\\n\",\n",
      "+      \"LW1.1 - Sourcing.ipynb\\n\",\n",
      "+      \"addresses.csv\\n\",\n",
      "+      \"biostats.csv\\n\"\n",
      "+     ]\n",
      "+    }\n",
      "+   ],\n",
      "+   \"source\": [\n",
      "+    \"%%bash\\n\",\n",
      "+    \"\\n\",\n",
      "+    \"ls\"\n",
      "+   ]\n",
      "+  },\n",
      "+  {\n",
      "+   \"cell_type\": \"code\",\n",
      "+   \"execution_count\": 2,\n",
      "+   \"id\": \"bf4479f5\",\n",
      "+   \"metadata\": {},\n",
      "+   \"outputs\": [],\n",
      "+   \"source\": [\n",
      "+    \"%%bash\\n\",\n",
      "+    \"\\n\",\n",
      "+    \"mkdir newdatafolder1\"\n",
      "+   ]\n",
      "+  },\n",
      "+  {\n",
      "+   \"cell_type\": \"code\",\n",
      "+   \"execution_count\": 3,\n",
      "+   \"id\": \"6bad09a0\",\n",
      "+   \"metadata\": {},\n",
      "+   \"outputs\": [\n",
      "+    {\n",
      "+     \"name\": \"stdout\",\n",
      "+     \"output_type\": \"stream\",\n",
      "+     \"text\": [\n",
      "+      \"Git Version Control Check.ipynb  biostats.csv\\r\\n\",\n",
      "+      \"LW1.1 - Sourcing.ipynb           \\u001b[1m\\u001b[36mnewdatafolder1\\u001b[m\\u001b[m/\\r\\n\",\n",
      "+      \"addresses.csv\\r\\n\"\n",
      "+     ]\n",
      "+    }\n",
      "+   ],\n",
      "+   \"source\": [\n",
      "+    \"ls\"\n",
      "+   ]\n",
      "+  },\n",
      "+  {\n",
      "+   \"cell_type\": \"code\",\n",
      "+   \"execution_count\": 6,\n",
      "+   \"id\": \"ff03903b\",\n",
      "+   \"metadata\": {},\n",
      "+   \"outputs\": [],\n",
      "+   \"source\": [\n",
      "+    \"%%bash\\n\",\n",
      "+    \"git config --global user.name \\\"Max Peshkoff\\\"\\n\",\n",
      "+    \"git config --global user.email maximpeshk@gmail.com\\n\",\n",
      "+    \"git config --global init.default branch main\"\n",
      "+   ]\n",
      "+  },\n",
      "+  {\n",
      "+   \"cell_type\": \"code\",\n",
      "+   \"execution_count\": 7,\n",
      "+   \"id\": \"a1a8a47c\",\n",
      "+   \"metadata\": {},\n",
      "+   \"outputs\": [],\n",
      "+   \"source\": [\n",
      "+    \"%%bash\\n\",\n",
      "+    \"cd newdatafolder1/\"\n",
      "+   ]\n",
      "+  },\n",
      "+  {\n",
      "+   \"cell_type\": \"code\",\n",
      "+   \"execution_count\": 8,\n",
      "+   \"id\": \"7a3f331e\",\n",
      "+   \"metadata\": {},\n",
      "+   \"outputs\": [\n",
      "+    {\n",
      "+     \"name\": \"stderr\",\n",
      "+     \"output_type\": \"stream\",\n",
      "+     \"text\": [\n",
      "+      \"hint: Using 'master' as the name for the initial branch. This default branch name\\n\",\n",
      "+      \"hint: is subject to change. To configure the initial branch name to use in all\\n\",\n",
      "+      \"hint: of your new repositories, which will suppress this warning, call:\\n\",\n",
      "+      \"hint: \\n\",\n",
      "+      \"hint: \\tgit config --global init.defaultBranch <name>\\n\",\n",
      "+      \"hint: \\n\",\n",
      "+      \"hint: Names commonly chosen instead of 'master' are 'main', 'trunk' and\\n\",\n",
      "+      \"hint: 'development'. The just-created branch can be renamed via this command:\\n\",\n",
      "+      \"hint: \\n\",\n",
      "+      \"hint: \\tgit branch -m <name>\\n\"\n",
      "+     ]\n",
      "+    },\n",
      "+    {\n",
      "+     \"name\": \"stdout\",\n",
      "+     \"output_type\": \"stream\",\n",
      "+     \"text\": [\n",
      "+      \"Initialized empty Git repository in /Users/Dude/Desktop/datascience/.git/\\n\"\n",
      "+     ]\n",
      "+    }\n",
      "+   ],\n",
      "+   \"source\": [\n",
      "+    \"%%bash\\n\",\n",
      "+    \"git init\"\n",
      "+   ]\n",
      "+  },\n",
      "+  {\n",
      "+   \"cell_type\": \"code\",\n",
      "+   \"execution_count\": 10,\n",
      "+   \"id\": \"647fd845\",\n",
      "+   \"metadata\": {},\n",
      "+   \"outputs\": [],\n",
      "+   \"source\": [\n",
      "+    \"%%bash\\n\",\n",
      "+    \"touch newtexttile.txt\"\n",
      "+   ]\n",
      "+  },\n",
      "+  {\n",
      "+   \"cell_type\": \"code\",\n",
      "+   \"execution_count\": 11,\n",
      "+   \"id\": \"ae0283f2\",\n",
      "+   \"metadata\": {},\n",
      "+   \"outputs\": [\n",
      "+    {\n",
      "+     \"name\": \"stdout\",\n",
      "+     \"output_type\": \"stream\",\n",
      "+     \"text\": [\n",
      "+      \"Git Version Control Check.ipynb  biostats.csv\\r\\n\",\n",
      "+      \"LW1.1 - Sourcing.ipynb           \\u001b[1m\\u001b[36mnewdatafolder1\\u001b[m\\u001b[m/\\r\\n\",\n",
      "+      \"addresses.csv                    newtexttile.txt\\r\\n\"\n",
      "+     ]\n",
      "+    }\n",
      "+   ],\n",
      "+   \"source\": [\n",
      "+    \"ls\"\n",
      "+   ]\n",
      "+  },\n",
      "+  {\n",
      "+   \"cell_type\": \"code\",\n",
      "+   \"execution_count\": 12,\n",
      "+   \"id\": \"1b80f901\",\n",
      "+   \"metadata\": {},\n",
      "+   \"outputs\": [\n",
      "+    {\n",
      "+     \"name\": \"stdout\",\n",
      "+     \"output_type\": \"stream\",\n",
      "+     \"text\": [\n",
      "+      \"On branch master\\n\",\n",
      "+      \"\\n\",\n",
      "+      \"No commits yet\\n\",\n",
      "+      \"\\n\",\n",
      "+      \"Untracked files:\\n\",\n",
      "+      \"  (use \\\"git add <file>...\\\" to include in what will be committed)\\n\",\n",
      "+      \"\\t.ipynb_checkpoints/\\n\",\n",
      "+      \"\\tGit Version Control Check.ipynb\\n\",\n",
      "+      \"\\tLW1.1 - Sourcing.ipynb\\n\",\n",
      "+      \"\\taddresses.csv\\n\",\n",
      "+      \"\\tbiostats.csv\\n\",\n",
      "+      \"\\tnewtexttile.txt\\n\",\n",
      "+      \"\\n\",\n",
      "+      \"nothing added to commit but untracked files present (use \\\"git add\\\" to track)\\n\"\n",
      "+     ]\n",
      "+    }\n",
      "+   ],\n",
      "+   \"source\": [\n",
      "+    \"%%bash\\n\",\n",
      "+    \"git status\"\n",
      "+   ]\n",
      "+  },\n",
      "+  {\n",
      "+   \"cell_type\": \"code\",\n",
      "+   \"execution_count\": 15,\n",
      "+   \"id\": \"97238a48\",\n",
      "+   \"metadata\": {},\n",
      "+   \"outputs\": [],\n",
      "+   \"source\": [\n",
      "+    \"%%bash\\n\",\n",
      "+    \"git add newtexttile.txt\"\n",
      "+   ]\n",
      "+  },\n",
      "+  {\n",
      "+   \"cell_type\": \"code\",\n",
      "+   \"execution_count\": 16,\n",
      "+   \"id\": \"bebee61b\",\n",
      "+   \"metadata\": {},\n",
      "+   \"outputs\": [\n",
      "+    {\n",
      "+     \"name\": \"stdout\",\n",
      "+     \"output_type\": \"stream\",\n",
      "+     \"text\": [\n",
      "+      \"On branch master\\n\",\n",
      "+      \"\\n\",\n",
      "+      \"No commits yet\\n\",\n",
      "+      \"\\n\",\n",
      "+      \"Changes to be committed:\\n\",\n",
      "+      \"  (use \\\"git rm --cached <file>...\\\" to unstage)\\n\",\n",
      "+      \"\\tnew file:   newtexttile.txt\\n\",\n",
      "+      \"\\n\",\n",
      "+      \"Untracked files:\\n\",\n",
      "+      \"  (use \\\"git add <file>...\\\" to include in what will be committed)\\n\",\n",
      "+      \"\\t.ipynb_checkpoints/\\n\",\n",
      "+      \"\\tGit Version Control Check.ipynb\\n\",\n",
      "+      \"\\tLW1.1 - Sourcing.ipynb\\n\",\n",
      "+      \"\\taddresses.csv\\n\",\n",
      "+      \"\\tbiostats.csv\\n\",\n",
      "+      \"\\n\"\n",
      "+     ]\n",
      "+    }\n",
      "+   ],\n",
      "+   \"source\": [\n",
      "+    \"%%bash\\n\",\n",
      "+    \"git status\"\n",
      "+   ]\n",
      "+  },\n",
      "+  {\n",
      "+   \"cell_type\": \"code\",\n",
      "+   \"execution_count\": 17,\n",
      "+   \"id\": \"ff09f5bc\",\n",
      "+   \"metadata\": {},\n",
      "+   \"outputs\": [],\n",
      "+   \"source\": [\n",
      "+    \"%%bash\\n\",\n",
      "+    \"git mv \\\"newtexttile.txt\\\" \\\"newdatafolder1/\\\"\"\n",
      "+   ]\n",
      "+  },\n",
      "+  {\n",
      "+   \"cell_type\": \"code\",\n",
      "+   \"execution_count\": 18,\n",
      "+   \"id\": \"10a444a9\",\n",
      "+   \"metadata\": {},\n",
      "+   \"outputs\": [\n",
      "+    {\n",
      "+     \"name\": \"stdout\",\n",
      "+     \"output_type\": \"stream\",\n",
      "+     \"text\": [\n",
      "+      \"Git Version Control Check.ipynb\\n\",\n",
      "+      \"LW1.1 - Sourcing.ipynb\\n\",\n",
      "+      \"addresses.csv\\n\",\n",
      "+      \"biostats.csv\\n\",\n",
      "+      \"\\u001b[1m\\u001b[36mnewdatafolder1\\u001b[m\\u001b[m\\n\"\n",
      "+     ]\n",
      "+    }\n",
      "+   ],\n",
      "+   \"source\": [\n",
      "+    \"%%bash\\n\",\n",
      "+    \"ls\"\n",
      "+   ]\n",
      "+  },\n",
      "+  {\n",
      "+   \"cell_type\": \"code\",\n",
      "+   \"execution_count\": 22,\n",
      "+   \"id\": \"27a3d5d7\",\n",
      "+   \"metadata\": {},\n",
      "+   \"outputs\": [\n",
      "+    {\n",
      "+     \"name\": \"stdout\",\n",
      "+     \"output_type\": \"stream\",\n",
      "+     \"text\": [\n",
      "+      \"newtexttile.txt\\n\"\n",
      "+     ]\n",
      "+    }\n",
      "+   ],\n",
      "+   \"source\": [\n",
      "+    \"%%bash\\n\",\n",
      "+    \"cd newdatafolder1/\\n\",\n",
      "+    \"ls\"\n",
      "+   ]\n",
      "+  },\n",
      "+  {\n",
      "+   \"cell_type\": \"code\",\n",
      "+   \"execution_count\": 23,\n",
      "+   \"id\": \"c3af7ff1\",\n",
      "+   \"metadata\": {},\n",
      "+   \"outputs\": [\n",
      "+    {\n",
      "+     \"name\": \"stdout\",\n",
      "+     \"output_type\": \"stream\",\n",
      "+     \"text\": [\n",
      "+      \"On branch master\\n\",\n",
      "+      \"\\n\",\n",
      "+      \"No commits yet\\n\",\n",
      "+      \"\\n\",\n",
      "+      \"Changes to be committed:\\n\",\n",
      "+      \"  (use \\\"git rm --cached <file>...\\\" to unstage)\\n\",\n",
      "+      \"\\tnew file:   newdatafolder1/newtexttile.txt\\n\",\n",
      "+      \"\\n\",\n",
      "+      \"Untracked files:\\n\",\n",
      "+      \"  (use \\\"git add <file>...\\\" to include in what will be committed)\\n\",\n",
      "+      \"\\t.ipynb_checkpoints/\\n\",\n",
      "+      \"\\tGit Version Control Check.ipynb\\n\",\n",
      "+      \"\\tLW1.1 - Sourcing.ipynb\\n\",\n",
      "+      \"\\taddresses.csv\\n\",\n",
      "+      \"\\tbiostats.csv\\n\",\n",
      "+      \"\\n\"\n",
      "+     ]\n",
      "+    }\n",
      "+   ],\n",
      "+   \"source\": [\n",
      "+    \"%%bash\\n\",\n",
      "+    \"git status\"\n",
      "+   ]\n",
      "+  },\n",
      "+  {\n",
      "+   \"cell_type\": \"code\",\n",
      "+   \"execution_count\": 25,\n",
      "+   \"id\": \"fd5f0796\",\n",
      "+   \"metadata\": {},\n",
      "+   \"outputs\": [\n",
      "+    {\n",
      "+     \"name\": \"stdout\",\n",
      "+     \"output_type\": \"stream\",\n",
      "+     \"text\": [\n",
      "+      \"[master (root-commit) 0b3993c] created new text file and moved to new data folder\\n\",\n",
      "+      \" 1 file changed, 0 insertions(+), 0 deletions(-)\\n\",\n",
      "+      \" create mode 100644 newdatafolder1/newtexttile.txt\\n\"\n",
      "+     ]\n",
      "+    }\n",
      "+   ],\n",
      "+   \"source\": [\n",
      "+    \"%%bash\\n\",\n",
      "+    \"git commit -m\\\"created new text file and moved to new data folder\\\" \"\n",
      "+   ]\n",
      "+  },\n",
      "+  {\n",
      "+   \"cell_type\": \"code\",\n",
      "+   \"execution_count\": 27,\n",
      "+   \"id\": \"19e801a4\",\n",
      "+   \"metadata\": {},\n",
      "+   \"outputs\": [\n",
      "+    {\n",
      "+     \"name\": \"stdout\",\n",
      "+     \"output_type\": \"stream\",\n",
      "+     \"text\": [\n",
      "+      \"On branch master\\n\",\n",
      "+      \"Untracked files:\\n\",\n",
      "+      \"  (use \\\"git add <file>...\\\" to include in what will be committed)\\n\",\n"
     ]
    },
    {
     "name": "stdout",
     "output_type": "stream",
     "text": [
      "+      \"\\t.ipynb_checkpoints/\\n\",\n",
      "+      \"\\tGit Version Control Check.ipynb\\n\",\n",
      "+      \"\\tLW1.1 - Sourcing.ipynb\\n\",\n",
      "+      \"\\taddresses.csv\\n\",\n",
      "+      \"\\tbiostats.csv\\n\",\n",
      "+      \"\\n\",\n",
      "+      \"nothing added to commit but untracked files present (use \\\"git add\\\" to track)\\n\"\n",
      "+     ]\n",
      "+    }\n",
      "+   ],\n",
      "+   \"source\": [\n",
      "+    \"%%bash\\n\",\n",
      "+    \"git status\"\n",
      "+   ]\n",
      "+  },\n",
      "+  {\n",
      "+   \"cell_type\": \"code\",\n",
      "+   \"execution_count\": 29,\n",
      "+   \"id\": \"a0b93895\",\n",
      "+   \"metadata\": {},\n",
      "+   \"outputs\": [],\n",
      "+   \"source\": [\n",
      "+    \"%%bash\\n\",\n",
      "+    \"cd newdatafolder1/\"\n",
      "+   ]\n",
      "+  },\n",
      "+  {\n",
      "+   \"cell_type\": \"code\",\n",
      "+   \"execution_count\": 30,\n",
      "+   \"id\": \"c0427c60\",\n",
      "+   \"metadata\": {},\n",
      "+   \"outputs\": [\n",
      "+    {\n",
      "+     \"name\": \"stdout\",\n",
      "+     \"output_type\": \"stream\",\n",
      "+     \"text\": [\n",
      "+      \"Git Version Control Check.ipynb\\n\",\n",
      "+      \"LW1.1 - Sourcing.ipynb\\n\",\n",
      "+      \"addresses.csv\\n\",\n",
      "+      \"biostats.csv\\n\",\n",
      "+      \"\\u001b[1m\\u001b[36mnewdatafolder1\\u001b[m\\u001b[m\\n\"\n",
      "+     ]\n",
      "+    }\n",
      "+   ],\n",
      "+   \"source\": [\n",
      "+    \"%%bash\\n\",\n",
      "+    \"ls\"\n",
      "+   ]\n",
      "+  },\n",
      "+  {\n",
      "+   \"cell_type\": \"code\",\n",
      "+   \"execution_count\": 31,\n",
      "+   \"id\": \"6af2bdad\",\n",
      "+   \"metadata\": {},\n",
      "+   \"outputs\": [\n",
      "+    {\n",
      "+     \"name\": \"stdout\",\n",
      "+     \"output_type\": \"stream\",\n",
      "+     \"text\": [\n",
      "+      \"On branch master\\n\",\n",
      "+      \"Changes not staged for commit:\\n\",\n",
      "+      \"  (use \\\"git add <file>...\\\" to update what will be committed)\\n\",\n",
      "+      \"  (use \\\"git restore <file>...\\\" to discard changes in working directory)\\n\",\n",
      "+      \"\\tmodified:   newdatafolder1/newtexttile.txt\\n\",\n",
      "+      \"\\n\",\n",
      "+      \"Untracked files:\\n\",\n",
      "+      \"  (use \\\"git add <file>...\\\" to include in what will be committed)\\n\",\n",
      "+      \"\\t.ipynb_checkpoints/\\n\",\n",
      "+      \"\\tGit Version Control Check.ipynb\\n\",\n",
      "+      \"\\tLW1.1 - Sourcing.ipynb\\n\",\n",
      "+      \"\\taddresses.csv\\n\",\n",
      "+      \"\\tbiostats.csv\\n\",\n",
      "+      \"\\n\",\n",
      "+      \"no changes added to commit (use \\\"git add\\\" and/or \\\"git commit -a\\\")\\n\"\n",
      "+     ]\n",
      "+    }\n",
      "+   ],\n",
      "+   \"source\": [\n",
      "+    \"%%bash\\n\",\n",
      "+    \"git status\"\n",
      "+   ]\n",
      "+  },\n",
      "+  {\n",
      "+   \"cell_type\": \"code\",\n",
      "+   \"execution_count\": 35,\n",
      "+   \"id\": \"d1be6f1a\",\n",
      "+   \"metadata\": {},\n",
      "+   \"outputs\": [\n",
      "+    {\n",
      "+     \"name\": \"stdout\",\n",
      "+     \"output_type\": \"stream\",\n",
      "+     \"text\": [\n",
      "+      \"diff --git a/newdatafolder1/newtexttile.txt b/newdatafolder1/newtexttile.txt\\n\",\n",
      "+      \"index e69de29..a12ee50 100644\\n\",\n",
      "+      \"--- a/newdatafolder1/newtexttile.txt\\n\",\n",
      "+      \"+++ b/newdatafolder1/newtexttile.txt\\n\",\n",
      "+      \"@@ -0,0 +1 @@\\n\",\n",
      "+      \"+Here is some inputted text\\n\",\n",
      "+      \"\\\\ No newline at end of file\\n\"\n",
      "+     ]\n",
      "+    }\n",
      "+   ],\n",
      "+   \"source\": [\n",
      "+    \"%%bash\\n\",\n",
      "+    \"git diff\"\n",
      "+   ]\n",
      "+  },\n",
      "+  {\n",
      "+   \"cell_type\": \"code\",\n",
      "+   \"execution_count\": 37,\n",
      "+   \"id\": \"f398c75d\",\n",
      "+   \"metadata\": {},\n",
      "+   \"outputs\": [\n",
      "+    {\n",
      "+     \"name\": \"stdout\",\n",
      "+     \"output_type\": \"stream\",\n",
      "+     \"text\": [\n",
      "+      \"On branch master\\n\",\n",
      "+      \"Changes not staged for commit:\\n\",\n",
      "+      \"  (use \\\"git add <file>...\\\" to update what will be committed)\\n\",\n",
      "+      \"  (use \\\"git restore <file>...\\\" to discard changes in working directory)\\n\",\n",
      "+      \"\\tmodified:   newdatafolder1/newtexttile.txt\\n\",\n",
      "+      \"\\n\",\n",
      "+      \"Untracked files:\\n\",\n",
      "+      \"  (use \\\"git add <file>...\\\" to include in what will be committed)\\n\",\n",
      "+      \"\\t.ipynb_checkpoints/\\n\",\n",
      "+      \"\\tGit Version Control Check.ipynb\\n\",\n",
      "+      \"\\tLW1.1 - Sourcing.ipynb\\n\",\n",
      "+      \"\\taddresses.csv\\n\",\n",
      "+      \"\\tbiostats.csv\\n\",\n",
      "+      \"\\n\",\n",
      "+      \"no changes added to commit (use \\\"git add\\\" and/or \\\"git commit -a\\\")\\n\"\n",
      "+     ]\n",
      "+    }\n",
      "+   ],\n",
      "+   \"source\": [\n",
      "+    \"%%bash\\n\",\n",
      "+    \"git status\"\n",
      "+   ]\n",
      "+  },\n",
      "+  {\n",
      "+   \"cell_type\": \"code\",\n",
      "+   \"execution_count\": 39,\n",
      "+   \"id\": \"6dcc5e6d\",\n",
      "+   \"metadata\": {},\n",
      "+   \"outputs\": [\n",
      "+    {\n",
      "+     \"name\": \"stdout\",\n",
      "+     \"output_type\": \"stream\",\n",
      "+     \"text\": [\n",
      "+      \"[master f258523] text inputted into text file\\n\",\n",
      "+      \" 1 file changed, 1 insertion(+)\\n\"\n",
      "+     ]\n",
      "+    }\n",
      "+   ],\n",
      "+   \"source\": [\n",
      "+    \"%%bash\\n\",\n",
      "+    \"git commit -a -m \\\"text inputted into text file\\\"\"\n",
      "+   ]\n",
      "+  },\n",
      "+  {\n",
      "+   \"cell_type\": \"code\",\n",
      "+   \"execution_count\": 40,\n",
      "+   \"id\": \"406047dd\",\n",
      "+   \"metadata\": {},\n",
      "+   \"outputs\": [\n",
      "+    {\n",
      "+     \"name\": \"stdout\",\n",
      "+     \"output_type\": \"stream\",\n",
      "+     \"text\": [\n",
      "+      \"On branch master\\n\",\n",
      "+      \"Untracked files:\\n\",\n",
      "+      \"  (use \\\"git add <file>...\\\" to include in what will be committed)\\n\",\n",
      "+      \"\\t.ipynb_checkpoints/\\n\",\n",
      "+      \"\\tGit Version Control Check.ipynb\\n\",\n",
      "+      \"\\tLW1.1 - Sourcing.ipynb\\n\",\n",
      "+      \"\\taddresses.csv\\n\",\n",
      "+      \"\\tbiostats.csv\\n\",\n",
      "+      \"\\n\",\n",
      "+      \"nothing added to commit but untracked files present (use \\\"git add\\\" to track)\\n\"\n",
      "+     ]\n",
      "+    }\n",
      "+   ],\n",
      "+   \"source\": [\n",
      "+    \"%%bash\\n\",\n",
      "+    \"git status\"\n",
      "+   ]\n",
      "+  },\n",
      "+  {\n",
      "+   \"cell_type\": \"code\",\n",
      "+   \"execution_count\": null,\n",
      "+   \"id\": \"f23a4a99\",\n",
      "+   \"metadata\": {},\n",
      "+   \"outputs\": [],\n",
      "+   \"source\": []\n",
      "+  }\n",
      "+ ],\n",
      "+ \"metadata\": {\n",
      "+  \"kernelspec\": {\n",
      "+   \"display_name\": \"Python 3 (ipykernel)\",\n",
      "+   \"language\": \"python\",\n",
      "+   \"name\": \"python3\"\n",
      "+  },\n",
      "+  \"language_info\": {\n",
      "+   \"codemirror_mode\": {\n",
      "+    \"name\": \"ipython\",\n",
      "+    \"version\": 3\n",
      "+   },\n",
      "+   \"file_extension\": \".py\",\n",
      "+   \"mimetype\": \"text/x-python\",\n",
      "+   \"name\": \"python\",\n",
      "+   \"nbconvert_exporter\": \"python\",\n",
      "+   \"pygments_lexer\": \"ipython3\",\n",
      "+   \"version\": \"3.9.8\"\n",
      "+  }\n",
      "+ },\n",
      "+ \"nbformat\": 4,\n",
      "+ \"nbformat_minor\": 5\n",
      "+}\n",
      "diff --git a/.ipynb_checkpoints/LW1.1 - Sourcing-checkpoint.ipynb b/.ipynb_checkpoints/LW1.1 - Sourcing-checkpoint.ipynb\n",
      "new file mode 100644\n",
      "index 0000000..a798859\n",
      "--- /dev/null\n",
      "+++ b/.ipynb_checkpoints/LW1.1 - Sourcing-checkpoint.ipynb\t\n",
      "@@ -0,0 +1,235 @@\n",
      "+{\n",
      "+ \"cells\": [\n",
      "+  {\n",
      "+   \"cell_type\": \"markdown\",\n",
      "+   \"id\": \"b9894c2e\",\n",
      "+   \"metadata\": {},\n",
      "+   \"source\": [\n",
      "+    \"CSV import example\"\n",
      "+   ]\n",
      "+  },\n",
      "+  {\n",
      "+   \"cell_type\": \"code\",\n",
      "+   \"execution_count\": 1,\n",
      "+   \"id\": \"40f5eab8\",\n",
      "+   \"metadata\": {\n",
      "+    \"scrolled\": false\n",
      "+   },\n",
      "+   \"outputs\": [\n",
      "+    {\n",
      "+     \"name\": \"stdout\",\n",
      "+     \"output_type\": \"stream\",\n",
      "+     \"text\": [\n",
      "+      \"John,Doe,120 jefferson st.,Riverside, NJ, 08075\\n\",\n",
      "+      \"Jack,McGinnis,220 hobo Av.,Phila, PA,09119\\n\",\n",
      "+      \"\\\"John \\\"\\\"Da Man\\\"\\\"\\\",Repici,120 Jefferson St.,Riverside, NJ,08075\\n\",\n",
      "+      \"Stephen,Tyler,\\\"7452 Terrace \\\"\\\"At the Plaza\\\"\\\" road\\\",SomeTown,SD, 91234\\n\",\n",
      "+      \",Blankman,,SomeTown, SD, 00298\\n\",\n",
      "+      \"\\\"Joan \\\"\\\"the bone\\\"\\\", Anne\\\",Jet,\\\"9th, at Terrace plc\\\",Desert City,CO,00123\\n\"\n",
      "+     ]\n",
      "+    }\n",
      "+   ],\n",
      "+   \"source\": [\n",
      "+    \"%%bash\\n\",\n",
      "+    \"curl -s https://people.sc.fsu.edu/~jburkardt/data/csv/addresses.csv > addresses.csv\\n\",\n",
      "+    \"cat addresses.csv\"\n",
      "+   ]\n",
      "+  },\n",
      "+  {\n",
      "+   \"cell_type\": \"code\",\n",
      "+   \"execution_count\": 3,\n",
      "+   \"id\": \"da179ee5\",\n",
      "+   \"metadata\": {},\n",
      "+   \"outputs\": [],\n",
      "+   \"source\": [\n",
      "+    \"import csv\"\n",
      "+   ]\n",
      "+  },\n",
      "+  {\n",
      "+   \"cell_type\": \"code\",\n",
      "+   \"execution_count\": 4,\n",
      "+   \"id\": \"8762ebd0\",\n",
      "+   \"metadata\": {},\n",
      "+   \"outputs\": [\n",
      "+    {\n",
      "+     \"name\": \"stdout\",\n",
      "+     \"output_type\": \"stream\",\n",
      "+     \"text\": [\n",
      "+      \"['John', 'Doe', '120 jefferson st.', 'Riverside', 'NJ', '08075']\\n\",\n",
      "+      \"['Jack', 'McGinnis', '220 hobo Av.', 'Phila', 'PA', '09119']\\n\",\n",
      "+      \"['John \\\"Da Man\\\"', 'Repici', '120 Jefferson St.', 'Riverside', 'NJ', '08075']\\n\",\n",
      "+      \"['Stephen', 'Tyler', '7452 Terrace \\\"At the Plaza\\\" road', 'SomeTown', 'SD', '91234']\\n\",\n",
      "+      \"['', 'Blankman', '', 'SomeTown', 'SD', '00298']\\n\",\n",
      "+      \"['Joan \\\"the bone\\\", Anne', 'Jet', '9th, at Terrace plc', 'Desert City', 'CO', '00123']\\n\"\n",
      "+     ]\n",
      "+    }\n",
      "+   ],\n",
      "+   \"source\": [\n",
      "+    \"with open('addresses.csv') as csvfile:\\n\",\n",
      "+    \"    reader = csv.reader(csvfile,skipinitialspace=True)\\n\",\n",
      "+    \"    for row in reader:\\n\",\n",
      "+    \"        # row is a 'list'\\n\",\n",
      "+    \"        print(row)\"\n",
      "+   ]\n",
      "+  },\n",
      "+  {\n",
      "+   \"cell_type\": \"code\",\n",
      "+   \"execution_count\": 5,\n",
      "+   \"id\": \"d1ab3e91\",\n",
      "+   \"metadata\": {},\n",
      "+   \"outputs\": [\n",
      "+    {\n",
      "+     \"data\": {\n",
      "+      \"text/plain\": [\n",
      "+       \"<_csv.reader at 0x104825eb0>\"\n",
      "+      ]\n",
      "+     },\n",
      "+     \"execution_count\": 5,\n",
      "+     \"metadata\": {},\n",
      "+     \"output_type\": \"execute_result\"\n",
      "+    }\n",
      "+   ],\n",
      "+   \"source\": [\n",
      "+    \"reader\"\n",
      "+   ]\n",
      "+  },\n",
      "+  {\n",
      "+   \"cell_type\": \"code\",\n",
      "+   \"execution_count\": 6,\n",
      "+   \"id\": \"51bf50c9\",\n",
      "+   \"metadata\": {},\n",
      "+   \"outputs\": [\n",
      "+    {\n",
      "+     \"data\": {\n",
      "+      \"text/plain\": [\n",
      "+       \"<_io.TextIOWrapper name='addresses.csv' mode='r' encoding='UTF-8'>\"\n",
      "+      ]\n"
     ]
    },
    {
     "name": "stdout",
     "output_type": "stream",
     "text": [
      "+     },\n",
      "+     \"execution_count\": 6,\n",
      "+     \"metadata\": {},\n",
      "+     \"output_type\": \"execute_result\"\n",
      "+    }\n",
      "+   ],\n",
      "+   \"source\": [\n",
      "+    \"csvfile\"\n",
      "+   ]\n",
      "+  },\n",
      "+  {\n",
      "+   \"cell_type\": \"code\",\n",
      "+   \"execution_count\": 7,\n",
      "+   \"id\": \"f55f6a6d\",\n",
      "+   \"metadata\": {},\n",
      "+   \"outputs\": [\n",
      "+    {\n",
      "+     \"name\": \"stdout\",\n",
      "+     \"output_type\": \"stream\",\n",
      "+     \"text\": [\n",
      "+      \"Doe\\n\",\n",
      "+      \"McGinnis\\n\",\n",
      "+      \"Repici\\n\",\n",
      "+      \"Tyler\\n\",\n",
      "+      \"Blankman\\n\",\n",
      "+      \"Jet\\n\"\n",
      "+     ]\n",
      "+    }\n",
      "+   ],\n",
      "+   \"source\": [\n",
      "+    \"with open('addresses.csv') as csvfile:\\n\",\n",
      "+    \"    reader = csv.reader(csvfile,skipinitialspace=True)\\n\",\n",
      "+    \"    for row in reader:\\n\",\n",
      "+    \"        # row is a 'list'\\n\",\n",
      "+    \"        print(row[1])\"\n",
      "+   ]\n",
      "+  },\n",
      "+  {\n",
      "+   \"cell_type\": \"code\",\n",
      "+   \"execution_count\": 11,\n",
      "+   \"id\": \"ff58ae76\",\n",
      "+   \"metadata\": {},\n",
      "+   \"outputs\": [\n",
      "+    {\n",
      "+     \"name\": \"stdout\",\n",
      "+     \"output_type\": \"stream\",\n",
      "+     \"text\": [\n",
      "+      \"\\\"Name\\\",     \\\"Sex\\\", \\\"Age\\\", \\\"Height (in)\\\", \\\"Weight (lbs)\\\"\\n\",\n",
      "+      \"\\\"Alex\\\",       \\\"M\\\",   41,       74,      170\\n\",\n",
      "+      \"\\\"Bert\\\",       \\\"M\\\",   42,       68,      166\\n\"\n",
      "+     ]\n",
      "+    }\n",
      "+   ],\n",
      "+   \"source\": [\n",
      "+    \"%%bash\\n\",\n",
      "+    \"curl -s https://people.sc.fsu.edu/~jburkardt/data/csv/biostats.csv > biostats.csv\\n\",\n",
      "+    \"head -n 3 biostats.csv\"\n",
      "+   ]\n",
      "+  },\n",
      "+  {\n",
      "+   \"cell_type\": \"code\",\n",
      "+   \"execution_count\": 12,\n",
      "+   \"id\": \"eb09bceb\",\n",
      "+   \"metadata\": {},\n",
      "+   \"outputs\": [\n",
      "+    {\n",
      "+     \"name\": \"stdout\",\n",
      "+     \"output_type\": \"stream\",\n",
      "+     \"text\": [\n",
      "+      \"Alex M 41\\n\",\n",
      "+      \"Bert M 42\\n\",\n",
      "+      \"Carl M 32\\n\",\n",
      "+      \"Dave M 39\\n\",\n",
      "+      \"Elly F 30\\n\",\n",
      "+      \"Fran F 33\\n\",\n",
      "+      \"Gwen F 26\\n\",\n",
      "+      \"Hank M 30\\n\",\n",
      "+      \"Ivan M 53\\n\",\n",
      "+      \"Jake M 32\\n\",\n",
      "+      \"Kate F 47\\n\",\n",
      "+      \"Luke M 34\\n\",\n",
      "+      \"Myra F 23\\n\",\n",
      "+      \"Neil M 36\\n\",\n",
      "+      \"Omar M 38\\n\",\n",
      "+      \"Page F 31\\n\",\n",
      "+      \"Quin M 29\\n\",\n",
      "+      \"Ruth F 28\\n\"\n",
      "+     ]\n",
      "+    }\n",
      "+   ],\n",
      "+   \"source\": [\n",
      "+    \"with open('biostats.csv') as csvfile:\\n\",\n",
      "+    \"    reader = csv.DictReader(csvfile,skipinitialspace=True)\\n\",\n",
      "+    \"    for row in reader:\\n\",\n",
      "+    \"        # row is a 'list'\\n\",\n",
      "+    \"        print(row['Name'],row['Sex'],row['Age'])\"\n",
      "+   ]\n",
      "+  },\n",
      "+  {\n",
      "+   \"cell_type\": \"code\",\n",
      "+   \"execution_count\": null,\n",
      "+   \"id\": \"c86285cc\",\n",
      "+   \"metadata\": {},\n",
      "+   \"outputs\": [],\n",
      "+   \"source\": []\n",
      "+  }\n",
      "+ ],\n",
      "+ \"metadata\": {\n",
      "+  \"kernelspec\": {\n",
      "+   \"display_name\": \"Python 3 (ipykernel)\",\n",
      "+   \"language\": \"python\",\n",
      "+   \"name\": \"python3\"\n",
      "+  },\n",
      "+  \"language_info\": {\n",
      "+   \"codemirror_mode\": {\n",
      "+    \"name\": \"ipython\",\n",
      "+    \"version\": 3\n",
      "+   },\n",
      "+   \"file_extension\": \".py\",\n",
      "+   \"mimetype\": \"text/x-python\",\n",
      "+   \"name\": \"python\",\n",
      "+   \"nbconvert_exporter\": \"python\",\n",
      "+   \"pygments_lexer\": \"ipython3\",\n",
      "+   \"version\": \"3.9.8\"\n",
      "+  }\n",
      "+ },\n",
      "+ \"nbformat\": 4,\n",
      "+ \"nbformat_minor\": 5\n",
      "+}\n",
      "diff --git a/Git Version Control Check.ipynb b/Git Version Control Check.ipynb\n",
      "new file mode 100644\n",
      "index 0000000..83f9baf\n",
      "--- /dev/null\n",
      "+++ b/Git Version Control Check.ipynb\t\n",
      "@@ -0,0 +1,682 @@\n",
      "+{\n",
      "+ \"cells\": [\n",
      "+  {\n",
      "+   \"cell_type\": \"code\",\n",
      "+   \"execution_count\": 1,\n",
      "+   \"id\": \"741ebfd0\",\n",
      "+   \"metadata\": {},\n",
      "+   \"outputs\": [\n",
      "+    {\n",
      "+     \"name\": \"stdout\",\n",
      "+     \"output_type\": \"stream\",\n",
      "+     \"text\": [\n",
      "+      \"Git Version Control Check.ipynb\\n\",\n",
      "+      \"LW1.1 - Sourcing.ipynb\\n\",\n",
      "+      \"addresses.csv\\n\",\n",
      "+      \"biostats.csv\\n\"\n",
      "+     ]\n",
      "+    }\n",
      "+   ],\n",
      "+   \"source\": [\n",
      "+    \"%%bash\\n\",\n",
      "+    \"\\n\",\n",
      "+    \"ls\"\n",
      "+   ]\n",
      "+  },\n",
      "+  {\n",
      "+   \"cell_type\": \"code\",\n",
      "+   \"execution_count\": 2,\n",
      "+   \"id\": \"09e8f37d\",\n",
      "+   \"metadata\": {},\n",
      "+   \"outputs\": [],\n",
      "+   \"source\": [\n",
      "+    \"%%bash\\n\",\n",
      "+    \"\\n\",\n",
      "+    \"mkdir newdatafolder1\"\n",
      "+   ]\n",
      "+  },\n",
      "+  {\n",
      "+   \"cell_type\": \"code\",\n",
      "+   \"execution_count\": 3,\n",
      "+   \"id\": \"95134749\",\n",
      "+   \"metadata\": {},\n",
      "+   \"outputs\": [\n",
      "+    {\n",
      "+     \"name\": \"stdout\",\n",
      "+     \"output_type\": \"stream\",\n",
      "+     \"text\": [\n",
      "+      \"Git Version Control Check.ipynb  biostats.csv\\r\\n\",\n",
      "+      \"LW1.1 - Sourcing.ipynb           \\u001b[1m\\u001b[36mnewdatafolder1\\u001b[m\\u001b[m/\\r\\n\",\n",
      "+      \"addresses.csv\\r\\n\"\n",
      "+     ]\n",
      "+    }\n",
      "+   ],\n",
      "+   \"source\": [\n",
      "+    \"ls\"\n",
      "+   ]\n",
      "+  },\n",
      "+  {\n",
      "+   \"cell_type\": \"code\",\n",
      "+   \"execution_count\": 6,\n",
      "+   \"id\": \"d32e0466\",\n",
      "+   \"metadata\": {},\n",
      "+   \"outputs\": [],\n",
      "+   \"source\": [\n",
      "+    \"%%bash\\n\",\n",
      "+    \"git config --global user.name \\\"Max Peshkoff\\\"\\n\",\n",
      "+    \"git config --global user.email maximpeshk@gmail.com\\n\",\n",
      "+    \"git config --global init.default branch main\"\n",
      "+   ]\n",
      "+  },\n",
      "+  {\n",
      "+   \"cell_type\": \"code\",\n",
      "+   \"execution_count\": 7,\n",
      "+   \"id\": \"7749d281\",\n",
      "+   \"metadata\": {},\n",
      "+   \"outputs\": [],\n",
      "+   \"source\": [\n",
      "+    \"%%bash\\n\",\n",
      "+    \"cd newdatafolder1/\"\n",
      "+   ]\n",
      "+  },\n",
      "+  {\n",
      "+   \"cell_type\": \"code\",\n",
      "+   \"execution_count\": 8,\n",
      "+   \"id\": \"5ca85d2d\",\n",
      "+   \"metadata\": {},\n",
      "+   \"outputs\": [\n",
      "+    {\n",
      "+     \"name\": \"stderr\",\n",
      "+     \"output_type\": \"stream\",\n",
      "+     \"text\": [\n",
      "+      \"hint: Using 'master' as the name for the initial branch. This default branch name\\n\",\n",
      "+      \"hint: is subject to change. To configure the initial branch name to use in all\\n\",\n",
      "+      \"hint: of your new repositories, which will suppress this warning, call:\\n\",\n",
      "+      \"hint: \\n\",\n",
      "+      \"hint: \\tgit config --global init.defaultBranch <name>\\n\",\n",
      "+      \"hint: \\n\",\n",
      "+      \"hint: Names commonly chosen instead of 'master' are 'main', 'trunk' and\\n\",\n",
      "+      \"hint: 'development'. The just-created branch can be renamed via this command:\\n\",\n",
      "+      \"hint: \\n\",\n",
      "+      \"hint: \\tgit branch -m <name>\\n\"\n",
      "+     ]\n",
      "+    },\n",
      "+    {\n",
      "+     \"name\": \"stdout\",\n",
      "+     \"output_type\": \"stream\",\n",
      "+     \"text\": [\n",
      "+      \"Initialized empty Git repository in /Users/Dude/Desktop/datascience/.git/\\n\"\n",
      "+     ]\n",
      "+    }\n",
      "+   ],\n",
      "+   \"source\": [\n",
      "+    \"%%bash\\n\",\n",
      "+    \"git init\"\n",
      "+   ]\n",
      "+  },\n",
      "+  {\n",
      "+   \"cell_type\": \"code\",\n",
      "+   \"execution_count\": 10,\n",
      "+   \"id\": \"c465c867\",\n",
      "+   \"metadata\": {},\n",
      "+   \"outputs\": [],\n",
      "+   \"source\": [\n",
      "+    \"%%bash\\n\",\n",
      "+    \"touch newtexttile.txt\"\n",
      "+   ]\n",
      "+  },\n",
      "+  {\n",
      "+   \"cell_type\": \"code\",\n",
      "+   \"execution_count\": 11,\n",
      "+   \"id\": \"7df80e6d\",\n",
      "+   \"metadata\": {},\n",
      "+   \"outputs\": [\n",
      "+    {\n",
      "+     \"name\": \"stdout\",\n",
      "+     \"output_type\": \"stream\",\n",
      "+     \"text\": [\n",
      "+      \"Git Version Control Check.ipynb  biostats.csv\\r\\n\",\n",
      "+      \"LW1.1 - Sourcing.ipynb           \\u001b[1m\\u001b[36mnewdatafolder1\\u001b[m\\u001b[m/\\r\\n\",\n",
      "+      \"addresses.csv                    newtexttile.txt\\r\\n\"\n",
      "+     ]\n",
      "+    }\n",
      "+   ],\n",
      "+   \"source\": [\n",
      "+    \"ls\"\n",
      "+   ]\n",
      "+  },\n",
      "+  {\n",
      "+   \"cell_type\": \"code\",\n",
      "+   \"execution_count\": 12,\n",
      "+   \"id\": \"8d32461c\",\n",
      "+   \"metadata\": {},\n",
      "+   \"outputs\": [\n",
      "+    {\n",
      "+     \"name\": \"stdout\",\n",
      "+     \"output_type\": \"stream\",\n",
      "+     \"text\": [\n",
      "+      \"On branch master\\n\",\n",
      "+      \"\\n\",\n",
      "+      \"No commits yet\\n\",\n",
      "+      \"\\n\",\n",
      "+      \"Untracked files:\\n\",\n",
      "+      \"  (use \\\"git add <file>...\\\" to include in what will be committed)\\n\",\n",
      "+      \"\\t.ipynb_checkpoints/\\n\",\n",
      "+      \"\\tGit Version Control Check.ipynb\\n\",\n",
      "+      \"\\tLW1.1 - Sourcing.ipynb\\n\",\n",
      "+      \"\\taddresses.csv\\n\",\n",
      "+      \"\\tbiostats.csv\\n\",\n",
      "+      \"\\tnewtexttile.txt\\n\",\n",
      "+      \"\\n\",\n",
      "+      \"nothing added to commit but untracked files present (use \\\"git add\\\" to track)\\n\"\n",
      "+     ]\n",
      "+    }\n",
      "+   ],\n",
      "+   \"source\": [\n",
      "+    \"%%bash\\n\",\n",
      "+    \"git status\"\n",
      "+   ]\n",
      "+  },\n",
      "+  {\n",
      "+   \"cell_type\": \"code\",\n",
      "+   \"execution_count\": 15,\n",
      "+   \"id\": \"1c153f2d\",\n",
      "+   \"metadata\": {},\n",
      "+   \"outputs\": [],\n",
      "+   \"source\": [\n",
      "+    \"%%bash\\n\",\n",
      "+    \"git add newtexttile.txt\"\n",
      "+   ]\n",
      "+  },\n",
      "+  {\n",
      "+   \"cell_type\": \"code\",\n",
      "+   \"execution_count\": 16,\n",
      "+   \"id\": \"290f07be\",\n",
      "+   \"metadata\": {},\n",
      "+   \"outputs\": [\n",
      "+    {\n",
      "+     \"name\": \"stdout\",\n",
      "+     \"output_type\": \"stream\",\n",
      "+     \"text\": [\n",
      "+      \"On branch master\\n\",\n",
      "+      \"\\n\",\n",
      "+      \"No commits yet\\n\",\n",
      "+      \"\\n\",\n",
      "+      \"Changes to be committed:\\n\",\n",
      "+      \"  (use \\\"git rm --cached <file>...\\\" to unstage)\\n\",\n",
      "+      \"\\tnew file:   newtexttile.txt\\n\",\n",
      "+      \"\\n\",\n",
      "+      \"Untracked files:\\n\",\n",
      "+      \"  (use \\\"git add <file>...\\\" to include in what will be committed)\\n\",\n",
      "+      \"\\t.ipynb_checkpoints/\\n\",\n",
      "+      \"\\tGit Version Control Check.ipynb\\n\",\n",
      "+      \"\\tLW1.1 - Sourcing.ipynb\\n\",\n",
      "+      \"\\taddresses.csv\\n\",\n",
      "+      \"\\tbiostats.csv\\n\",\n",
      "+      \"\\n\"\n",
      "+     ]\n",
      "+    }\n",
      "+   ],\n",
      "+   \"source\": [\n",
      "+    \"%%bash\\n\",\n",
      "+    \"git status\"\n",
      "+   ]\n",
      "+  },\n",
      "+  {\n",
      "+   \"cell_type\": \"code\",\n",
      "+   \"execution_count\": 17,\n",
      "+   \"id\": \"1afcd0ce\",\n",
      "+   \"metadata\": {},\n",
      "+   \"outputs\": [],\n",
      "+   \"source\": [\n"
     ]
    },
    {
     "name": "stdout",
     "output_type": "stream",
     "text": [
      "+    \"%%bash\\n\",\n",
      "+    \"git mv \\\"newtexttile.txt\\\" \\\"newdatafolder1/\\\"\"\n",
      "+   ]\n",
      "+  },\n",
      "+  {\n",
      "+   \"cell_type\": \"code\",\n",
      "+   \"execution_count\": 18,\n",
      "+   \"id\": \"e4f6c819\",\n",
      "+   \"metadata\": {},\n",
      "+   \"outputs\": [\n",
      "+    {\n",
      "+     \"name\": \"stdout\",\n",
      "+     \"output_type\": \"stream\",\n",
      "+     \"text\": [\n",
      "+      \"Git Version Control Check.ipynb\\n\",\n",
      "+      \"LW1.1 - Sourcing.ipynb\\n\",\n",
      "+      \"addresses.csv\\n\",\n",
      "+      \"biostats.csv\\n\",\n",
      "+      \"\\u001b[1m\\u001b[36mnewdatafolder1\\u001b[m\\u001b[m\\n\"\n",
      "+     ]\n",
      "+    }\n",
      "+   ],\n",
      "+   \"source\": [\n",
      "+    \"%%bash\\n\",\n",
      "+    \"ls\"\n",
      "+   ]\n",
      "+  },\n",
      "+  {\n",
      "+   \"cell_type\": \"code\",\n",
      "+   \"execution_count\": 22,\n",
      "+   \"id\": \"ab5f1e0a\",\n",
      "+   \"metadata\": {},\n",
      "+   \"outputs\": [\n",
      "+    {\n",
      "+     \"name\": \"stdout\",\n",
      "+     \"output_type\": \"stream\",\n",
      "+     \"text\": [\n",
      "+      \"newtexttile.txt\\n\"\n",
      "+     ]\n",
      "+    }\n",
      "+   ],\n",
      "+   \"source\": [\n",
      "+    \"%%bash\\n\",\n",
      "+    \"cd newdatafolder1/\\n\",\n",
      "+    \"ls\"\n",
      "+   ]\n",
      "+  },\n",
      "+  {\n",
      "+   \"cell_type\": \"code\",\n",
      "+   \"execution_count\": 23,\n",
      "+   \"id\": \"13fd6b61\",\n",
      "+   \"metadata\": {},\n",
      "+   \"outputs\": [\n",
      "+    {\n",
      "+     \"name\": \"stdout\",\n",
      "+     \"output_type\": \"stream\",\n",
      "+     \"text\": [\n",
      "+      \"On branch master\\n\",\n",
      "+      \"\\n\",\n",
      "+      \"No commits yet\\n\",\n",
      "+      \"\\n\",\n",
      "+      \"Changes to be committed:\\n\",\n",
      "+      \"  (use \\\"git rm --cached <file>...\\\" to unstage)\\n\",\n",
      "+      \"\\tnew file:   newdatafolder1/newtexttile.txt\\n\",\n",
      "+      \"\\n\",\n",
      "+      \"Untracked files:\\n\",\n",
      "+      \"  (use \\\"git add <file>...\\\" to include in what will be committed)\\n\",\n",
      "+      \"\\t.ipynb_checkpoints/\\n\",\n",
      "+      \"\\tGit Version Control Check.ipynb\\n\",\n",
      "+      \"\\tLW1.1 - Sourcing.ipynb\\n\",\n",
      "+      \"\\taddresses.csv\\n\",\n",
      "+      \"\\tbiostats.csv\\n\",\n",
      "+      \"\\n\"\n",
      "+     ]\n",
      "+    }\n",
      "+   ],\n",
      "+   \"source\": [\n",
      "+    \"%%bash\\n\",\n",
      "+    \"git status\"\n",
      "+   ]\n",
      "+  },\n",
      "+  {\n",
      "+   \"cell_type\": \"code\",\n",
      "+   \"execution_count\": 25,\n",
      "+   \"id\": \"826a5bdd\",\n",
      "+   \"metadata\": {},\n",
      "+   \"outputs\": [\n",
      "+    {\n",
      "+     \"name\": \"stdout\",\n",
      "+     \"output_type\": \"stream\",\n",
      "+     \"text\": [\n",
      "+      \"[master (root-commit) 0b3993c] created new text file and moved to new data folder\\n\",\n",
      "+      \" 1 file changed, 0 insertions(+), 0 deletions(-)\\n\",\n",
      "+      \" create mode 100644 newdatafolder1/newtexttile.txt\\n\"\n",
      "+     ]\n",
      "+    }\n",
      "+   ],\n",
      "+   \"source\": [\n",
      "+    \"%%bash\\n\",\n",
      "+    \"git commit -m\\\"created new text file and moved to new data folder\\\" \"\n",
      "+   ]\n",
      "+  },\n",
      "+  {\n",
      "+   \"cell_type\": \"code\",\n",
      "+   \"execution_count\": 27,\n",
      "+   \"id\": \"e49fc916\",\n",
      "+   \"metadata\": {},\n",
      "+   \"outputs\": [\n",
      "+    {\n",
      "+     \"name\": \"stdout\",\n",
      "+     \"output_type\": \"stream\",\n",
      "+     \"text\": [\n",
      "+      \"On branch master\\n\",\n",
      "+      \"Untracked files:\\n\",\n",
      "+      \"  (use \\\"git add <file>...\\\" to include in what will be committed)\\n\",\n",
      "+      \"\\t.ipynb_checkpoints/\\n\",\n",
      "+      \"\\tGit Version Control Check.ipynb\\n\",\n",
      "+      \"\\tLW1.1 - Sourcing.ipynb\\n\",\n",
      "+      \"\\taddresses.csv\\n\",\n",
      "+      \"\\tbiostats.csv\\n\",\n",
      "+      \"\\n\",\n",
      "+      \"nothing added to commit but untracked files present (use \\\"git add\\\" to track)\\n\"\n",
      "+     ]\n",
      "+    }\n",
      "+   ],\n",
      "+   \"source\": [\n",
      "+    \"%%bash\\n\",\n",
      "+    \"git status\"\n",
      "+   ]\n",
      "+  },\n",
      "+  {\n",
      "+   \"cell_type\": \"code\",\n",
      "+   \"execution_count\": 29,\n",
      "+   \"id\": \"1fc47957\",\n",
      "+   \"metadata\": {},\n",
      "+   \"outputs\": [],\n",
      "+   \"source\": [\n",
      "+    \"%%bash\\n\",\n",
      "+    \"cd newdatafolder1/\"\n",
      "+   ]\n",
      "+  },\n",
      "+  {\n",
      "+   \"cell_type\": \"code\",\n",
      "+   \"execution_count\": 30,\n",
      "+   \"id\": \"7b3ef3c5\",\n",
      "+   \"metadata\": {},\n",
      "+   \"outputs\": [\n",
      "+    {\n",
      "+     \"name\": \"stdout\",\n",
      "+     \"output_type\": \"stream\",\n",
      "+     \"text\": [\n",
      "+      \"Git Version Control Check.ipynb\\n\",\n",
      "+      \"LW1.1 - Sourcing.ipynb\\n\",\n",
      "+      \"addresses.csv\\n\",\n",
      "+      \"biostats.csv\\n\",\n",
      "+      \"\\u001b[1m\\u001b[36mnewdatafolder1\\u001b[m\\u001b[m\\n\"\n",
      "+     ]\n",
      "+    }\n",
      "+   ],\n",
      "+   \"source\": [\n",
      "+    \"%%bash\\n\",\n",
      "+    \"ls\"\n",
      "+   ]\n",
      "+  },\n",
      "+  {\n",
      "+   \"cell_type\": \"code\",\n",
      "+   \"execution_count\": 31,\n",
      "+   \"id\": \"88827cb6\",\n",
      "+   \"metadata\": {},\n",
      "+   \"outputs\": [\n",
      "+    {\n",
      "+     \"name\": \"stdout\",\n",
      "+     \"output_type\": \"stream\",\n",
      "+     \"text\": [\n",
      "+      \"On branch master\\n\",\n",
      "+      \"Changes not staged for commit:\\n\",\n",
      "+      \"  (use \\\"git add <file>...\\\" to update what will be committed)\\n\",\n",
      "+      \"  (use \\\"git restore <file>...\\\" to discard changes in working directory)\\n\",\n",
      "+      \"\\tmodified:   newdatafolder1/newtexttile.txt\\n\",\n",
      "+      \"\\n\",\n",
      "+      \"Untracked files:\\n\",\n",
      "+      \"  (use \\\"git add <file>...\\\" to include in what will be committed)\\n\",\n",
      "+      \"\\t.ipynb_checkpoints/\\n\",\n",
      "+      \"\\tGit Version Control Check.ipynb\\n\",\n",
      "+      \"\\tLW1.1 - Sourcing.ipynb\\n\",\n",
      "+      \"\\taddresses.csv\\n\",\n",
      "+      \"\\tbiostats.csv\\n\",\n",
      "+      \"\\n\",\n",
      "+      \"no changes added to commit (use \\\"git add\\\" and/or \\\"git commit -a\\\")\\n\"\n",
      "+     ]\n",
      "+    }\n",
      "+   ],\n",
      "+   \"source\": [\n",
      "+    \"%%bash\\n\",\n",
      "+    \"git status\"\n",
      "+   ]\n",
      "+  },\n",
      "+  {\n",
      "+   \"cell_type\": \"code\",\n",
      "+   \"execution_count\": 35,\n",
      "+   \"id\": \"e0818f9c\",\n",
      "+   \"metadata\": {},\n",
      "+   \"outputs\": [\n",
      "+    {\n",
      "+     \"name\": \"stdout\",\n",
      "+     \"output_type\": \"stream\",\n",
      "+     \"text\": [\n",
      "+      \"diff --git a/newdatafolder1/newtexttile.txt b/newdatafolder1/newtexttile.txt\\n\",\n",
      "+      \"index e69de29..a12ee50 100644\\n\",\n",
      "+      \"--- a/newdatafolder1/newtexttile.txt\\n\",\n",
      "+      \"+++ b/newdatafolder1/newtexttile.txt\\n\",\n",
      "+      \"@@ -0,0 +1 @@\\n\",\n",
      "+      \"+Here is some inputted text\\n\",\n",
      "+      \"\\\\ No newline at end of file\\n\"\n",
      "+     ]\n",
      "+    }\n",
      "+   ],\n",
      "+   \"source\": [\n",
      "+    \"%%bash\\n\",\n",
      "+    \"git diff\"\n",
      "+   ]\n",
      "+  },\n",
      "+  {\n",
      "+   \"cell_type\": \"code\",\n",
      "+   \"execution_count\": 37,\n",
      "+   \"id\": \"41fd8f49\",\n",
      "+   \"metadata\": {},\n",
      "+   \"outputs\": [\n",
      "+    {\n",
      "+     \"name\": \"stdout\",\n",
      "+     \"output_type\": \"stream\",\n",
      "+     \"text\": [\n",
      "+      \"On branch master\\n\",\n",
      "+      \"Changes not staged for commit:\\n\",\n",
      "+      \"  (use \\\"git add <file>...\\\" to update what will be committed)\\n\",\n",
      "+      \"  (use \\\"git restore <file>...\\\" to discard changes in working directory)\\n\",\n",
      "+      \"\\tmodified:   newdatafolder1/newtexttile.txt\\n\",\n",
      "+      \"\\n\",\n",
      "+      \"Untracked files:\\n\",\n",
      "+      \"  (use \\\"git add <file>...\\\" to include in what will be committed)\\n\",\n",
      "+      \"\\t.ipynb_checkpoints/\\n\",\n",
      "+      \"\\tGit Version Control Check.ipynb\\n\",\n",
      "+      \"\\tLW1.1 - Sourcing.ipynb\\n\",\n",
      "+      \"\\taddresses.csv\\n\",\n",
      "+      \"\\tbiostats.csv\\n\",\n",
      "+      \"\\n\",\n",
      "+      \"no changes added to commit (use \\\"git add\\\" and/or \\\"git commit -a\\\")\\n\"\n",
      "+     ]\n",
      "+    }\n",
      "+   ],\n",
      "+   \"source\": [\n",
      "+    \"%%bash\\n\",\n",
      "+    \"git status\"\n",
      "+   ]\n",
      "+  },\n",
      "+  {\n",
      "+   \"cell_type\": \"code\",\n",
      "+   \"execution_count\": 39,\n",
      "+   \"id\": \"54b0e589\",\n",
      "+   \"metadata\": {},\n",
      "+   \"outputs\": [\n",
      "+    {\n",
      "+     \"name\": \"stdout\",\n",
      "+     \"output_type\": \"stream\",\n",
      "+     \"text\": [\n",
      "+      \"[master f258523] text inputted into text file\\n\",\n",
      "+      \" 1 file changed, 1 insertion(+)\\n\"\n",
      "+     ]\n",
      "+    }\n",
      "+   ],\n",
      "+   \"source\": [\n",
      "+    \"%%bash\\n\",\n",
      "+    \"git commit -a -m \\\"text inputted into text file\\\"\"\n",
      "+   ]\n",
      "+  },\n",
      "+  {\n",
      "+   \"cell_type\": \"code\",\n",
      "+   \"execution_count\": 40,\n",
      "+   \"id\": \"6bfa7ec1\",\n",
      "+   \"metadata\": {},\n",
      "+   \"outputs\": [\n",
      "+    {\n",
      "+     \"name\": \"stdout\",\n",
      "+     \"output_type\": \"stream\",\n",
      "+     \"text\": [\n",
      "+      \"On branch master\\n\",\n",
      "+      \"Untracked files:\\n\",\n",
      "+      \"  (use \\\"git add <file>...\\\" to include in what will be committed)\\n\",\n",
      "+      \"\\t.ipynb_checkpoints/\\n\",\n",
      "+      \"\\tGit Version Control Check.ipynb\\n\",\n",
      "+      \"\\tLW1.1 - Sourcing.ipynb\\n\",\n",
      "+      \"\\taddresses.csv\\n\",\n",
      "+      \"\\tbiostats.csv\\n\",\n",
      "+      \"\\n\",\n",
      "+      \"nothing added to commit but untracked files present (use \\\"git add\\\" to track)\\n\"\n",
      "+     ]\n",
      "+    }\n",
      "+   ],\n",
      "+   \"source\": [\n",
      "+    \"%%bash\\n\",\n",
      "+    \"git status\"\n",
      "+   ]\n",
      "+  },\n",
      "+  {\n",
      "+   \"cell_type\": \"code\",\n",
      "+   \"execution_count\": 44,\n",
      "+   \"id\": \"20214fad\",\n",
      "+   \"metadata\": {},\n",
      "+   \"outputs\": [\n",
      "+    {\n",
      "+     \"name\": \"stdout\",\n",
      "+     \"output_type\": \"stream\",\n",
      "+     \"text\": [\n",
      "+      \"rm 'newdatafolder1/newtexttile.txt'\\n\"\n",
      "+     ]\n",
      "+    }\n",
      "+   ],\n",
      "+   \"source\": [\n",
      "+    \"%%bash\\n\",\n",
      "+    \"git rm \\\"newdatafolder1/newtexttile.txt\\\"\"\n",
      "+   ]\n",
      "+  },\n",
      "+  {\n",
      "+   \"cell_type\": \"code\",\n",
      "+   \"execution_count\": 45,\n",
      "+   \"id\": \"4e540af1\",\n",
      "+   \"metadata\": {},\n",
      "+   \"outputs\": [\n",
      "+    {\n",
      "+     \"name\": \"stdout\",\n",
      "+     \"output_type\": \"stream\",\n",
      "+     \"text\": [\n",
      "+      \"On branch master\\n\",\n",
      "+      \"Changes to be committed:\\n\",\n",
      "+      \"  (use \\\"git restore --staged <file>...\\\" to unstage)\\n\",\n",
      "+      \"\\tdeleted:    newdatafolder1/newtexttile.txt\\n\",\n",
      "+      \"\\n\",\n",
      "+      \"Untracked files:\\n\",\n",
      "+      \"  (use \\\"git add <file>...\\\" to include in what will be committed)\\n\",\n",
      "+      \"\\t.ipynb_checkpoints/\\n\",\n",
      "+      \"\\tGit Version Control Check.ipynb\\n\",\n",
      "+      \"\\tLW1.1 - Sourcing.ipynb\\n\",\n"
     ]
    },
    {
     "name": "stdout",
     "output_type": "stream",
     "text": [
      "+      \"\\taddresses.csv\\n\",\n",
      "+      \"\\tbiostats.csv\\n\",\n",
      "+      \"\\n\"\n",
      "+     ]\n",
      "+    }\n",
      "+   ],\n",
      "+   \"source\": [\n",
      "+    \"%%bash\\n\",\n",
      "+    \"git status\"\n",
      "+   ]\n",
      "+  },\n",
      "+  {\n",
      "+   \"cell_type\": \"code\",\n",
      "+   \"execution_count\": 46,\n",
      "+   \"id\": \"d2827f91\",\n",
      "+   \"metadata\": {},\n",
      "+   \"outputs\": [],\n",
      "+   \"source\": [\n",
      "+    \"%%bash\\n\",\n",
      "+    \"git restore --staged \\\"newdatafolder1/newtexttile.txt\\\"\"\n",
      "+   ]\n",
      "+  },\n",
      "+  {\n",
      "+   \"cell_type\": \"code\",\n",
      "+   \"execution_count\": 50,\n",
      "+   \"id\": \"1f6aa4a9\",\n",
      "+   \"metadata\": {},\n",
      "+   \"outputs\": [\n",
      "+    {\n",
      "+     \"name\": \"stdout\",\n",
      "+     \"output_type\": \"stream\",\n",
      "+     \"text\": [\n",
      "+      \"Git Version Control Check.ipynb\\n\",\n",
      "+      \"LW1.1 - Sourcing.ipynb\\n\",\n",
      "+      \"addresses.csv\\n\",\n",
      "+      \"biostats.csv\\n\"\n",
      "+     ]\n",
      "+    }\n",
      "+   ],\n",
      "+   \"source\": [\n",
      "+    \"%%bash\\n\",\n",
      "+    \"ls\"\n",
      "+   ]\n",
      "+  },\n",
      "+  {\n",
      "+   \"cell_type\": \"code\",\n",
      "+   \"execution_count\": 53,\n",
      "+   \"id\": \"e08400d6\",\n",
      "+   \"metadata\": {},\n",
      "+   \"outputs\": [],\n",
      "+   \"source\": [\n",
      "+    \"%%bash\\n\",\n",
      "+    \"git restore \\\"newdatafolder1/newtexttile.txt\\\"\"\n",
      "+   ]\n",
      "+  },\n",
      "+  {\n",
      "+   \"cell_type\": \"code\",\n",
      "+   \"execution_count\": 54,\n",
      "+   \"id\": \"3ce662d6\",\n",
      "+   \"metadata\": {},\n",
      "+   \"outputs\": [\n",
      "+    {\n",
      "+     \"name\": \"stdout\",\n",
      "+     \"output_type\": \"stream\",\n",
      "+     \"text\": [\n",
      "+      \"Git Version Control Check.ipynb  biostats.csv\\r\\n\",\n",
      "+      \"LW1.1 - Sourcing.ipynb           \\u001b[1m\\u001b[36mnewdatafolder1\\u001b[m\\u001b[m/\\r\\n\",\n",
      "+      \"addresses.csv\\r\\n\"\n",
      "+     ]\n",
      "+    }\n",
      "+   ],\n",
      "+   \"source\": [\n",
      "+    \"ls\"\n",
      "+   ]\n",
      "+  },\n",
      "+  {\n",
      "+   \"cell_type\": \"code\",\n",
      "+   \"execution_count\": null,\n",
      "+   \"id\": \"d5cde205\",\n",
      "+   \"metadata\": {},\n",
      "+   \"outputs\": [],\n",
      "+   \"source\": [\n",
      "+    \"%%bash\\n\",\n",
      "+    \"git commit -a -m \\\"deleted and res\\\"\"\n",
      "+   ]\n",
      "+  }\n",
      "+ ],\n",
      "+ \"metadata\": {\n",
      "+  \"kernelspec\": {\n",
      "+   \"display_name\": \"Python 3 (ipykernel)\",\n",
      "+   \"language\": \"python\",\n",
      "+   \"name\": \"python3\"\n",
      "+  },\n",
      "+  \"language_info\": {\n",
      "+   \"codemirror_mode\": {\n",
      "+    \"name\": \"ipython\",\n",
      "+    \"version\": 3\n",
      "+   },\n",
      "+   \"file_extension\": \".py\",\n",
      "+   \"mimetype\": \"text/x-python\",\n",
      "+   \"name\": \"python\",\n",
      "+   \"nbconvert_exporter\": \"python\",\n",
      "+   \"pygments_lexer\": \"ipython3\",\n",
      "+   \"version\": \"3.9.8\"\n",
      "+  }\n",
      "+ },\n",
      "+ \"nbformat\": 4,\n",
      "+ \"nbformat_minor\": 5\n",
      "+}\n",
      "diff --git a/LW1.1 - Sourcing.ipynb b/LW1.1 - Sourcing.ipynb\n",
      "new file mode 100644\n",
      "index 0000000..a798859\n",
      "--- /dev/null\n",
      "+++ b/LW1.1 - Sourcing.ipynb\t\n",
      "@@ -0,0 +1,235 @@\n",
      "+{\n",
      "+ \"cells\": [\n",
      "+  {\n",
      "+   \"cell_type\": \"markdown\",\n",
      "+   \"id\": \"b9894c2e\",\n",
      "+   \"metadata\": {},\n",
      "+   \"source\": [\n",
      "+    \"CSV import example\"\n",
      "+   ]\n",
      "+  },\n",
      "+  {\n",
      "+   \"cell_type\": \"code\",\n",
      "+   \"execution_count\": 1,\n",
      "+   \"id\": \"40f5eab8\",\n",
      "+   \"metadata\": {\n",
      "+    \"scrolled\": false\n",
      "+   },\n",
      "+   \"outputs\": [\n",
      "+    {\n",
      "+     \"name\": \"stdout\",\n",
      "+     \"output_type\": \"stream\",\n",
      "+     \"text\": [\n",
      "+      \"John,Doe,120 jefferson st.,Riverside, NJ, 08075\\n\",\n",
      "+      \"Jack,McGinnis,220 hobo Av.,Phila, PA,09119\\n\",\n",
      "+      \"\\\"John \\\"\\\"Da Man\\\"\\\"\\\",Repici,120 Jefferson St.,Riverside, NJ,08075\\n\",\n",
      "+      \"Stephen,Tyler,\\\"7452 Terrace \\\"\\\"At the Plaza\\\"\\\" road\\\",SomeTown,SD, 91234\\n\",\n",
      "+      \",Blankman,,SomeTown, SD, 00298\\n\",\n",
      "+      \"\\\"Joan \\\"\\\"the bone\\\"\\\", Anne\\\",Jet,\\\"9th, at Terrace plc\\\",Desert City,CO,00123\\n\"\n",
      "+     ]\n",
      "+    }\n",
      "+   ],\n",
      "+   \"source\": [\n",
      "+    \"%%bash\\n\",\n",
      "+    \"curl -s https://people.sc.fsu.edu/~jburkardt/data/csv/addresses.csv > addresses.csv\\n\",\n",
      "+    \"cat addresses.csv\"\n",
      "+   ]\n",
      "+  },\n",
      "+  {\n",
      "+   \"cell_type\": \"code\",\n",
      "+   \"execution_count\": 3,\n",
      "+   \"id\": \"da179ee5\",\n",
      "+   \"metadata\": {},\n",
      "+   \"outputs\": [],\n",
      "+   \"source\": [\n",
      "+    \"import csv\"\n",
      "+   ]\n",
      "+  },\n",
      "+  {\n",
      "+   \"cell_type\": \"code\",\n",
      "+   \"execution_count\": 4,\n",
      "+   \"id\": \"8762ebd0\",\n",
      "+   \"metadata\": {},\n",
      "+   \"outputs\": [\n",
      "+    {\n",
      "+     \"name\": \"stdout\",\n",
      "+     \"output_type\": \"stream\",\n",
      "+     \"text\": [\n",
      "+      \"['John', 'Doe', '120 jefferson st.', 'Riverside', 'NJ', '08075']\\n\",\n",
      "+      \"['Jack', 'McGinnis', '220 hobo Av.', 'Phila', 'PA', '09119']\\n\",\n",
      "+      \"['John \\\"Da Man\\\"', 'Repici', '120 Jefferson St.', 'Riverside', 'NJ', '08075']\\n\",\n",
      "+      \"['Stephen', 'Tyler', '7452 Terrace \\\"At the Plaza\\\" road', 'SomeTown', 'SD', '91234']\\n\",\n",
      "+      \"['', 'Blankman', '', 'SomeTown', 'SD', '00298']\\n\",\n",
      "+      \"['Joan \\\"the bone\\\", Anne', 'Jet', '9th, at Terrace plc', 'Desert City', 'CO', '00123']\\n\"\n",
      "+     ]\n",
      "+    }\n",
      "+   ],\n",
      "+   \"source\": [\n",
      "+    \"with open('addresses.csv') as csvfile:\\n\",\n",
      "+    \"    reader = csv.reader(csvfile,skipinitialspace=True)\\n\",\n",
      "+    \"    for row in reader:\\n\",\n",
      "+    \"        # row is a 'list'\\n\",\n",
      "+    \"        print(row)\"\n",
      "+   ]\n",
      "+  },\n",
      "+  {\n",
      "+   \"cell_type\": \"code\",\n",
      "+   \"execution_count\": 5,\n",
      "+   \"id\": \"d1ab3e91\",\n",
      "+   \"metadata\": {},\n",
      "+   \"outputs\": [\n",
      "+    {\n",
      "+     \"data\": {\n",
      "+      \"text/plain\": [\n",
      "+       \"<_csv.reader at 0x104825eb0>\"\n",
      "+      ]\n",
      "+     },\n",
      "+     \"execution_count\": 5,\n",
      "+     \"metadata\": {},\n",
      "+     \"output_type\": \"execute_result\"\n",
      "+    }\n",
      "+   ],\n",
      "+   \"source\": [\n",
      "+    \"reader\"\n",
      "+   ]\n",
      "+  },\n",
      "+  {\n",
      "+   \"cell_type\": \"code\",\n",
      "+   \"execution_count\": 6,\n",
      "+   \"id\": \"51bf50c9\",\n",
      "+   \"metadata\": {},\n",
      "+   \"outputs\": [\n",
      "+    {\n",
      "+     \"data\": {\n",
      "+      \"text/plain\": [\n",
      "+       \"<_io.TextIOWrapper name='addresses.csv' mode='r' encoding='UTF-8'>\"\n",
      "+      ]\n",
      "+     },\n",
      "+     \"execution_count\": 6,\n",
      "+     \"metadata\": {},\n",
      "+     \"output_type\": \"execute_result\"\n",
      "+    }\n",
      "+   ],\n",
      "+   \"source\": [\n",
      "+    \"csvfile\"\n",
      "+   ]\n",
      "+  },\n",
      "+  {\n",
      "+   \"cell_type\": \"code\",\n",
      "+   \"execution_count\": 7,\n",
      "+   \"id\": \"f55f6a6d\",\n",
      "+   \"metadata\": {},\n",
      "+   \"outputs\": [\n",
      "+    {\n",
      "+     \"name\": \"stdout\",\n",
      "+     \"output_type\": \"stream\",\n",
      "+     \"text\": [\n",
      "+      \"Doe\\n\",\n",
      "+      \"McGinnis\\n\",\n",
      "+      \"Repici\\n\",\n",
      "+      \"Tyler\\n\",\n",
      "+      \"Blankman\\n\",\n",
      "+      \"Jet\\n\"\n",
      "+     ]\n",
      "+    }\n",
      "+   ],\n",
      "+   \"source\": [\n",
      "+    \"with open('addresses.csv') as csvfile:\\n\",\n",
      "+    \"    reader = csv.reader(csvfile,skipinitialspace=True)\\n\",\n",
      "+    \"    for row in reader:\\n\",\n",
      "+    \"        # row is a 'list'\\n\",\n",
      "+    \"        print(row[1])\"\n",
      "+   ]\n",
      "+  },\n",
      "+  {\n",
      "+   \"cell_type\": \"code\",\n",
      "+   \"execution_count\": 11,\n",
      "+   \"id\": \"ff58ae76\",\n",
      "+   \"metadata\": {},\n",
      "+   \"outputs\": [\n",
      "+    {\n",
      "+     \"name\": \"stdout\",\n",
      "+     \"output_type\": \"stream\",\n",
      "+     \"text\": [\n",
      "+      \"\\\"Name\\\",     \\\"Sex\\\", \\\"Age\\\", \\\"Height (in)\\\", \\\"Weight (lbs)\\\"\\n\",\n",
      "+      \"\\\"Alex\\\",       \\\"M\\\",   41,       74,      170\\n\",\n",
      "+      \"\\\"Bert\\\",       \\\"M\\\",   42,       68,      166\\n\"\n",
      "+     ]\n",
      "+    }\n",
      "+   ],\n",
      "+   \"source\": [\n",
      "+    \"%%bash\\n\",\n",
      "+    \"curl -s https://people.sc.fsu.edu/~jburkardt/data/csv/biostats.csv > biostats.csv\\n\",\n",
      "+    \"head -n 3 biostats.csv\"\n",
      "+   ]\n",
      "+  },\n",
      "+  {\n",
      "+   \"cell_type\": \"code\",\n",
      "+   \"execution_count\": 12,\n",
      "+   \"id\": \"eb09bceb\",\n",
      "+   \"metadata\": {},\n",
      "+   \"outputs\": [\n",
      "+    {\n",
      "+     \"name\": \"stdout\",\n",
      "+     \"output_type\": \"stream\",\n",
      "+     \"text\": [\n",
      "+      \"Alex M 41\\n\",\n",
      "+      \"Bert M 42\\n\",\n",
      "+      \"Carl M 32\\n\",\n",
      "+      \"Dave M 39\\n\",\n",
      "+      \"Elly F 30\\n\",\n",
      "+      \"Fran F 33\\n\",\n",
      "+      \"Gwen F 26\\n\",\n",
      "+      \"Hank M 30\\n\",\n",
      "+      \"Ivan M 53\\n\",\n",
      "+      \"Jake M 32\\n\",\n",
      "+      \"Kate F 47\\n\",\n",
      "+      \"Luke M 34\\n\",\n",
      "+      \"Myra F 23\\n\",\n",
      "+      \"Neil M 36\\n\",\n",
      "+      \"Omar M 38\\n\",\n",
      "+      \"Page F 31\\n\",\n",
      "+      \"Quin M 29\\n\",\n",
      "+      \"Ruth F 28\\n\"\n",
      "+     ]\n",
      "+    }\n",
      "+   ],\n",
      "+   \"source\": [\n",
      "+    \"with open('biostats.csv') as csvfile:\\n\",\n",
      "+    \"    reader = csv.DictReader(csvfile,skipinitialspace=True)\\n\",\n",
      "+    \"    for row in reader:\\n\",\n",
      "+    \"        # row is a 'list'\\n\",\n",
      "+    \"        print(row['Name'],row['Sex'],row['Age'])\"\n",
      "+   ]\n",
      "+  },\n",
      "+  {\n",
      "+   \"cell_type\": \"code\",\n",
      "+   \"execution_count\": null,\n",
      "+   \"id\": \"c86285cc\",\n",
      "+   \"metadata\": {},\n",
      "+   \"outputs\": [],\n",
      "+   \"source\": []\n",
      "+  }\n",
      "+ ],\n",
      "+ \"metadata\": {\n",
      "+  \"kernelspec\": {\n",
      "+   \"display_name\": \"Python 3 (ipykernel)\",\n",
      "+   \"language\": \"python\",\n",
      "+   \"name\": \"python3\"\n",
      "+  },\n",
      "+  \"language_info\": {\n",
      "+   \"codemirror_mode\": {\n",
      "+    \"name\": \"ipython\",\n",
      "+    \"version\": 3\n",
      "+   },\n",
      "+   \"file_extension\": \".py\",\n",
      "+   \"mimetype\": \"text/x-python\",\n",
      "+   \"name\": \"python\",\n",
      "+   \"nbconvert_exporter\": \"python\",\n",
      "+   \"pygments_lexer\": \"ipython3\",\n",
      "+   \"version\": \"3.9.8\"\n",
      "+  }\n",
      "+ },\n",
      "+ \"nbformat\": 4,\n",
      "+ \"nbformat_minor\": 5\n",
      "+}\n",
      "diff --git a/addresses.csv b/addresses.csv\n",
      "new file mode 100644\n",
      "index 0000000..e7bba0d\n",
      "--- /dev/null\n",
      "+++ b/addresses.csv\n",
      "@@ -0,0 +1,6 @@\n",
      "+John,Doe,120 jefferson st.,Riverside, NJ, 08075\n",
      "+Jack,McGinnis,220 hobo Av.,Phila, PA,09119\n",
      "+\"John \"\"Da Man\"\"\",Repici,120 Jefferson St.,Riverside, NJ,08075\n",
      "+Stephen,Tyler,\"7452 Terrace \"\"At the Plaza\"\" road\",SomeTown,SD, 91234\n",
      "+,Blankman,,SomeTown, SD, 00298\n",
      "+\"Joan \"\"the bone\"\", Anne\",Jet,\"9th, at Terrace plc\",Desert City,CO,00123\n"
     ]
    },
    {
     "name": "stdout",
     "output_type": "stream",
     "text": [
      "diff --git a/biostats.csv b/biostats.csv\n",
      "new file mode 100644\n",
      "index 0000000..cc8de39\n",
      "--- /dev/null\n",
      "+++ b/biostats.csv\n",
      "@@ -0,0 +1,20 @@\n",
      "+\"Name\",     \"Sex\", \"Age\", \"Height (in)\", \"Weight (lbs)\"\n",
      "+\"Alex\",       \"M\",   41,       74,      170\n",
      "+\"Bert\",       \"M\",   42,       68,      166\n",
      "+\"Carl\",       \"M\",   32,       70,      155\n",
      "+\"Dave\",       \"M\",   39,       72,      167\n",
      "+\"Elly\",       \"F\",   30,       66,      124\n",
      "+\"Fran\",       \"F\",   33,       66,      115\n",
      "+\"Gwen\",       \"F\",   26,       64,      121\n",
      "+\"Hank\",       \"M\",   30,       71,      158\n",
      "+\"Ivan\",       \"M\",   53,       72,      175\n",
      "+\"Jake\",       \"M\",   32,       69,      143\n",
      "+\"Kate\",       \"F\",   47,       69,      139\n",
      "+\"Luke\",       \"M\",   34,       72,      163\n",
      "+\"Myra\",       \"F\",   23,       62,       98\n",
      "+\"Neil\",       \"M\",   36,       75,      160\n",
      "+\"Omar\",       \"M\",   38,       70,      145\n",
      "+\"Page\",       \"F\",   31,       67,      135\n",
      "+\"Quin\",       \"M\",   29,       71,      176\n",
      "+\"Ruth\",       \"F\",   28,       65,      131\n",
      "+\n",
      "\n",
      "commit f2585231938a092b316a74771f4a5519b70ab720\n",
      "Author: Max Peshkoff <maximpeshk@gmail.com>\n",
      "Date:   Wed May 3 16:12:53 2023 +0200\n",
      "\n",
      "    text inputted into text file\n",
      "\n",
      "diff --git a/newdatafolder1/newtexttile.txt b/newdatafolder1/newtexttile.txt\n",
      "index e69de29..a12ee50 100644\n",
      "--- a/newdatafolder1/newtexttile.txt\n",
      "+++ b/newdatafolder1/newtexttile.txt\n",
      "@@ -0,0 +1 @@\n",
      "+Here is some inputted text\n",
      "\\ No newline at end of file\n",
      "\n",
      "commit 0b3993cf24dc05993659c651ccf306e266625dac\n",
      "Author: Max Peshkoff <maximpeshk@gmail.com>\n",
      "Date:   Wed May 3 16:07:06 2023 +0200\n",
      "\n",
      "    created new text file and moved to new data folder\n",
      "\n",
      "diff --git a/newdatafolder1/newtexttile.txt b/newdatafolder1/newtexttile.txt\n",
      "new file mode 100644\n",
      "index 0000000..e69de29\n"
     ]
    }
   ],
   "source": [
    "%%bash\n",
    "git log -p"
   ]
  },
  {
   "cell_type": "code",
   "execution_count": 62,
   "id": "beb41ccf",
   "metadata": {},
   "outputs": [
    {
     "name": "stdout",
     "output_type": "stream",
     "text": [
      "044ff05 commit after restoring lost file\n",
      "f258523 text inputted into text file\n",
      "0b3993c created new text file and moved to new data folder\n"
     ]
    }
   ],
   "source": [
    "%%bash\n",
    "git log --oneline"
   ]
  },
  {
   "cell_type": "code",
   "execution_count": 63,
   "id": "00a8a9b4",
   "metadata": {},
   "outputs": [],
   "source": [
    "# git reset 0b3993c\n",
    "# allows one to reset back to a previous commit"
   ]
  },
  {
   "cell_type": "code",
   "execution_count": 64,
   "id": "3d901171",
   "metadata": {},
   "outputs": [
    {
     "name": "stdout",
     "output_type": "stream",
     "text": [
      "* master\n"
     ]
    }
   ],
   "source": [
    "%%bash\n",
    "git branch"
   ]
  },
  {
   "cell_type": "code",
   "execution_count": 65,
   "id": "6253f16b",
   "metadata": {},
   "outputs": [],
   "source": [
    "%%bash\n",
    "git branch NewBranch"
   ]
  },
  {
   "cell_type": "code",
   "execution_count": 66,
   "id": "f0b9a966",
   "metadata": {},
   "outputs": [
    {
     "name": "stdout",
     "output_type": "stream",
     "text": [
      "  NewBranch\n",
      "* master\n"
     ]
    }
   ],
   "source": [
    "%%bash\n",
    "git branch"
   ]
  },
  {
   "cell_type": "code",
   "execution_count": 68,
   "id": "fcb99ee6",
   "metadata": {},
   "outputs": [
    {
     "name": "stderr",
     "output_type": "stream",
     "text": [
      "Switched to branch 'NewBranch'\n"
     ]
    },
    {
     "name": "stdout",
     "output_type": "stream",
     "text": [
      "M\t.ipynb_checkpoints/Git Version Control Check-checkpoint.ipynb\n",
      "M\tGit Version Control Check.ipynb\n"
     ]
    }
   ],
   "source": [
    "%%bash\n",
    "git switch NewBranch"
   ]
  },
  {
   "cell_type": "code",
   "execution_count": 69,
   "id": "55c6a1c0",
   "metadata": {},
   "outputs": [
    {
     "name": "stdout",
     "output_type": "stream",
     "text": [
      "* NewBranch\n",
      "  master\n"
     ]
    }
   ],
   "source": [
    "%%bash\n",
    "git branch"
   ]
  },
  {
   "cell_type": "code",
   "execution_count": 70,
   "id": "ddb241d0",
   "metadata": {},
   "outputs": [
    {
     "name": "stdout",
     "output_type": "stream",
     "text": [
      "Git Version Control Check.ipynb\n",
      "LW1.1 - Sourcing.ipynb\n",
      "addresses.csv\n",
      "biostats.csv\n",
      "\u001b[1m\u001b[36mnewdatafolder1\u001b[m\u001b[m\n"
     ]
    }
   ],
   "source": [
    "%%bash\n",
    "ls"
   ]
  },
  {
   "cell_type": "code",
   "execution_count": 71,
   "id": "170d83d4",
   "metadata": {},
   "outputs": [
    {
     "name": "stdout",
     "output_type": "stream",
     "text": [
      "\u001b7\u001b[?47h\u001b[1;24r\u001b[1;1H\u001b[J\u001b[7m  UW PICO 5.09                           New Buffer                             \u001b[m\u001b[23;1H\u001b[K\u001b[24;1H\u001b[K\u001b[23;1H\u001b[7m^\u001b[m\u001b[7mG\u001b[m Get Help  \u001b[7m^\u001b[m\u001b[7mO\u001b[m WriteOut  \u001b[7m^\u001b[m\u001b[7mR\u001b[m Read File \u001b[7m^\u001b[m\u001b[7mY\u001b[m Prev Pg   \u001b[7m^\u001b[m\u001b[7mK\u001b[m Cut Text  \u001b[7m^\u001b[m\u001b[7mC\u001b[m Cur Pos   \u001b[K\u001b[24;1H\u001b[7m^\u001b[m\u001b[7mX\u001b[m Exit      \u001b[7m^\u001b[m\u001b[7mJ\u001b[m Justify   \u001b[7m^\u001b[m\u001b[7mW\u001b[m Where is  \u001b[7m^\u001b[m\u001b[7mV\u001b[m Next Pg   \u001b[7m^\u001b[m\u001b[7mU\u001b[m UnCut Text\u001b[7m^\u001b[m\u001b[7mT\u001b[m To Spell  \u001b[K\u001b[3;1H\u001b[22;1H                                                                                \u001b[22;33H\u001b[7m[ Reading file ]\u001b[m\u001b[22;1H                                                                                \u001b[22;17H\u001b[7m[ File doesn't end with newline.  Adding one. ]\u001b[m\u001b[22;1H                                                                                \u001b[22;33H\u001b[7m[ Read 1 line ]\u001b[m\u001b[1;1H\u001b[J\u001b[7m  UW PICO 5.09              File: newdatafolder1/newtexttile.txt                \u001b[m\u001b[3;1HHere is some inputted text\u001b[23;1H\u001b[K\u001b[24;1H\u001b[K\u001b[23;1H\u001b[7m^\u001b[m\u001b[7mG\u001b[m Get Help  \u001b[7m^\u001b[m\u001b[7mO\u001b[m WriteOut  \u001b[7m^\u001b[m\u001b[7mR\u001b[m Read File \u001b[7m^\u001b[m\u001b[7mY\u001b[m Prev Pg   \u001b[7m^\u001b[m\u001b[7mK\u001b[m Cut Text  \u001b[7m^\u001b[m\u001b[7mC\u001b[m Cur Pos   \u001b[K\u001b[24;1H\u001b[7m^\u001b[m\u001b[7mX\u001b[m Exit      \u001b[7m^\u001b[m\u001b[7mJ\u001b[m Justify   \u001b[7m^\u001b[m\u001b[7mW\u001b[m Where is  \u001b[7m^\u001b[m\u001b[7mV\u001b[m Next Pg   \u001b[7m^\u001b[m\u001b[7mU\u001b[m UnCut Text\u001b[7m^\u001b[m\u001b[7mT\u001b[m To Spell  \u001b[K\u001b[3;1HProcess is interrupted.\n"
     ]
    }
   ],
   "source": [
    "%%bash\n",
    "nano newdatafolder1/newtexttile.txt"
   ]
  },
  {
   "cell_type": "code",
   "execution_count": 72,
   "id": "16327335",
   "metadata": {},
   "outputs": [
    {
     "name": "stdout",
     "output_type": "stream",
     "text": [
      "On branch NewBranch\n",
      "Changes not staged for commit:\n",
      "  (use \"git add <file>...\" to update what will be committed)\n",
      "  (use \"git restore <file>...\" to discard changes in working directory)\n",
      "\tmodified:   .ipynb_checkpoints/Git Version Control Check-checkpoint.ipynb\n",
      "\tmodified:   Git Version Control Check.ipynb\n",
      "\tmodified:   newdatafolder1/newtexttile.txt\n",
      "\n",
      "no changes added to commit (use \"git add\" and/or \"git commit -a\")\n"
     ]
    }
   ],
   "source": [
    "%%bash\n",
    "git status"
   ]
  },
  {
   "cell_type": "code",
   "execution_count": 73,
   "id": "c9cd3519",
   "metadata": {},
   "outputs": [
    {
     "name": "stdout",
     "output_type": "stream",
     "text": [
      "[NewBranch d45918e] more text added to txt file\n",
      " 3 files changed, 2450 insertions(+), 59 deletions(-)\n"
     ]
    }
   ],
   "source": [
    "%%bash\n",
    "git commit -a -m \"more text added to txt file\""
   ]
  },
  {
   "cell_type": "code",
   "execution_count": 74,
   "id": "0a45e5b7",
   "metadata": {},
   "outputs": [],
   "source": [
    "%%bash\n",
    "git branch main"
   ]
  },
  {
   "cell_type": "code",
   "execution_count": 75,
   "id": "fe2b4f47",
   "metadata": {},
   "outputs": [
    {
     "name": "stdout",
     "output_type": "stream",
     "text": [
      "* NewBranch\n",
      "  main\n",
      "  master\n"
     ]
    }
   ],
   "source": [
    "%%bash\n",
    "git branch"
   ]
  },
  {
   "cell_type": "code",
   "execution_count": 76,
   "id": "67858f86",
   "metadata": {},
   "outputs": [
    {
     "name": "stderr",
     "output_type": "stream",
     "text": [
      "Switched to branch 'main'\n"
     ]
    },
    {
     "name": "stdout",
     "output_type": "stream",
     "text": [
      "M\tGit Version Control Check.ipynb\n"
     ]
    }
   ],
   "source": [
    "%%bash\n",
    "git switch main"
   ]
  },
  {
   "cell_type": "code",
   "execution_count": 77,
   "id": "cf02e05d",
   "metadata": {},
   "outputs": [
    {
     "name": "stdout",
     "output_type": "stream",
     "text": [
      "Already up to date.\n"
     ]
    }
   ],
   "source": [
    "%%bash\n",
    "git merge -m \"Merge branch NewBranch to main\" NewBranch"
   ]
  },
  {
   "cell_type": "code",
   "execution_count": 78,
   "id": "bcc71447",
   "metadata": {},
   "outputs": [
    {
     "name": "stdout",
     "output_type": "stream",
     "text": [
      "  NewBranch\n",
      "* main\n",
      "  master\n"
     ]
    }
   ],
   "source": [
    "%%bash\n",
    "git branch"
   ]
  },
  {
   "cell_type": "code",
   "execution_count": 79,
   "id": "a1ad0cef",
   "metadata": {},
   "outputs": [
    {
     "name": "stdout",
     "output_type": "stream",
     "text": [
      "Deleted branch NewBranch (was d45918e).\n"
     ]
    }
   ],
   "source": [
    "%%bash\n",
    "git branch -d NewBranch"
   ]
  },
  {
   "cell_type": "code",
   "execution_count": 81,
   "id": "0e42ad73",
   "metadata": {},
   "outputs": [
    {
     "name": "stdout",
     "output_type": "stream",
     "text": [
      "Deleted branch master (was 044ff05).\n"
     ]
    }
   ],
   "source": [
    "%%bash\n",
    "git branch -d master"
   ]
  },
  {
   "cell_type": "code",
   "execution_count": 82,
   "id": "a278449b",
   "metadata": {},
   "outputs": [
    {
     "name": "stdout",
     "output_type": "stream",
     "text": [
      "* main\n"
     ]
    }
   ],
   "source": [
    "%%bash\n",
    "git branch"
   ]
  },
  {
   "cell_type": "code",
   "execution_count": 83,
   "id": "8abb100d",
   "metadata": {},
   "outputs": [],
   "source": [
    "%%bash\n",
    "git branch NewBranch2"
   ]
  },
  {
   "cell_type": "code",
   "execution_count": 84,
   "id": "3bd91d95",
   "metadata": {},
   "outputs": [
    {
     "name": "stderr",
     "output_type": "stream",
     "text": [
      "Switched to branch 'NewBranch2'\n"
     ]
    },
    {
     "name": "stdout",
     "output_type": "stream",
     "text": [
      "M\tGit Version Control Check.ipynb\n"
     ]
    }
   ],
   "source": [
    "%%bash\n",
    "git switch NewBranch2"
   ]
  },
  {
   "cell_type": "code",
   "execution_count": 85,
   "id": "1206f4bf",
   "metadata": {},
   "outputs": [
    {
     "name": "stdout",
     "output_type": "stream",
     "text": [
      "On branch NewBranch2\n",
      "Changes not staged for commit:\n",
      "  (use \"git add <file>...\" to update what will be committed)\n",
      "  (use \"git restore <file>...\" to discard changes in working directory)\n",
      "\tmodified:   Git Version Control Check.ipynb\n",
      "\tmodified:   newdatafolder1/newtexttile.txt\n",
      "\n",
      "no changes added to commit (use \"git add\" and/or \"git commit -a\")\n"
     ]
    }
   ],
   "source": [
    "%%bash\n",
    "git status"
   ]
  },
  {
   "cell_type": "code",
   "execution_count": 87,
   "id": "8dc77de0",
   "metadata": {},
   "outputs": [],
   "source": [
    "%%bash\n",
    "git add ."
   ]
  },
  {
   "cell_type": "code",
   "execution_count": 88,
   "id": "32624df8",
   "metadata": {},
   "outputs": [
    {
     "name": "stdout",
     "output_type": "stream",
     "text": [
      "On branch NewBranch2\n",
      "Changes to be committed:\n",
      "  (use \"git restore --staged <file>...\" to unstage)\n",
      "\tmodified:   Git Version Control Check.ipynb\n",
      "\tmodified:   newdatafolder1/newtexttile.txt\n",
      "\n",
      "Changes not staged for commit:\n",
      "  (use \"git add <file>...\" to update what will be committed)\n",
      "  (use \"git restore <file>...\" to discard changes in working directory)\n",
      "\tmodified:   newdatafolder1/newtexttile.txt\n",
      "\n"
     ]
    }
   ],
   "source": [
    "%%bash\n",
    "git status"
   ]
  },
  {
   "cell_type": "code",
   "execution_count": 89,
   "id": "bb7e046f",
   "metadata": {},
   "outputs": [
    {
     "name": "stdout",
     "output_type": "stream",
     "text": [
      "diff --git a/newdatafolder1/newtexttile.txt b/newdatafolder1/newtexttile.txt\n",
      "index 09da8bc..ff0afd5 100644\n",
      "--- a/newdatafolder1/newtexttile.txt\n",
      "+++ b/newdatafolder1/newtexttile.txt\n",
      "@@ -2,4 +2,6 @@ Here is some inputted text\n",
      " \n",
      " Now I've added more text\n",
      " \n",
      "-Let's test when we add new text\n",
      "\\ No newline at end of file\n",
      "+Let's test when we add new text\n",
      "+\n",
      "+Let's try again!\n",
      "\\ No newline at end of file\n"
     ]
    }
   ],
   "source": [
    "%%bash\n",
    "git diff"
   ]
  },
  {
   "cell_type": "code",
   "execution_count": 91,
   "id": "82c9b214",
   "metadata": {},
   "outputs": [
    {
     "name": "stdout",
     "output_type": "stream",
     "text": [
      "[NewBranch2 97c45cf] Adding text to txt file to check if changes made or not\n",
      " 2 files changed, 933 insertions(+), 48 deletions(-)\n"
     ]
    }
   ],
   "source": [
    "%%bash\n",
    "git commit . -m \"Adding text to txt file to check if changes made or not\""
   ]
  },
  {
   "cell_type": "code",
   "execution_count": 92,
   "id": "2e027818",
   "metadata": {},
   "outputs": [
    {
     "name": "stdout",
     "output_type": "stream",
     "text": [
      "* NewBranch2\n",
      "  main\n"
     ]
    }
   ],
   "source": [
    "%%bash\n",
    "git branch"
   ]
  },
  {
   "cell_type": "code",
   "execution_count": 96,
   "id": "f6e967c9",
   "metadata": {},
   "outputs": [
    {
     "name": "stdout",
     "output_type": "stream",
     "text": [
      "On branch NewBranch2\n",
      "Changes not staged for commit:\n",
      "  (use \"git add <file>...\" to update what will be committed)\n",
      "  (use \"git restore <file>...\" to discard changes in working directory)\n",
      "\tmodified:   Git Version Control Check.ipynb\n",
      "\n",
      "no changes added to commit (use \"git add\" and/or \"git commit -a\")\n"
     ]
    }
   ],
   "source": [
    "%%bash\n",
    "git status"
   ]
  },
  {
   "cell_type": "code",
   "execution_count": 97,
   "id": "84111507",
   "metadata": {},
   "outputs": [
    {
     "name": "stdout",
     "output_type": "stream",
     "text": [
      "[NewBranch2 8b5c494] Adding text to txt file\n",
      " 1 file changed, 143 insertions(+), 674 deletions(-)\n"
     ]
    }
   ],
   "source": [
    "%%bash\n",
    "git commit -a -m \"Adding text to txt file\""
   ]
  },
  {
   "cell_type": "code",
   "execution_count": 100,
   "id": "c71e2783",
   "metadata": {},
   "outputs": [
    {
     "name": "stdout",
     "output_type": "stream",
     "text": [
      "On branch NewBranch2\n",
      "Changes not staged for commit:\n",
      "  (use \"git add <file>...\" to update what will be committed)\n",
      "  (use \"git restore <file>...\" to discard changes in working directory)\n",
      "\tmodified:   Git Version Control Check.ipynb\n",
      "\n",
      "no changes added to commit (use \"git add\" and/or \"git commit -a\")\n"
     ]
    }
   ],
   "source": [
    "%%bash\n",
    "git status"
   ]
  },
  {
   "cell_type": "code",
   "execution_count": 101,
   "id": "74356178",
   "metadata": {},
   "outputs": [],
   "source": [
    "%%bash\n",
    "git add ."
   ]
  },
  {
   "cell_type": "code",
   "execution_count": 102,
   "id": "929ef322",
   "metadata": {},
   "outputs": [
    {
     "name": "stdout",
     "output_type": "stream",
     "text": [
      "On branch NewBranch2\n",
      "Changes to be committed:\n",
      "  (use \"git restore --staged <file>...\" to unstage)\n",
      "\tmodified:   Git Version Control Check.ipynb\n",
      "\n"
     ]
    }
   ],
   "source": [
    "%%bash\n",
    "git status"
   ]
  },
  {
   "cell_type": "code",
   "execution_count": 103,
   "id": "19a4f936",
   "metadata": {},
   "outputs": [
    {
     "name": "stdout",
     "output_type": "stream",
     "text": [
      "[NewBranch2 ca6cf75] Text added\n",
      " 1 file changed, 129 insertions(+), 64 deletions(-)\n"
     ]
    }
   ],
   "source": [
    "%%bash\n",
    "git commit -m \"Text added\""
   ]
  },
  {
   "cell_type": "code",
   "execution_count": 104,
   "id": "321bff68",
   "metadata": {},
   "outputs": [
    {
     "name": "stderr",
     "output_type": "stream",
     "text": [
      "Switched to branch 'main'\n"
     ]
    }
   ],
   "source": [
    "%%bash\n",
    "git switch main"
   ]
  },
  {
   "cell_type": "code",
   "execution_count": 105,
   "id": "11618704",
   "metadata": {},
   "outputs": [
    {
     "name": "stdout",
     "output_type": "stream",
     "text": [
      "  NewBranch2\n",
      "* main\n"
     ]
    }
   ],
   "source": [
    "%%bash\n",
    "git branch"
   ]
  },
  {
   "cell_type": "code",
   "execution_count": 106,
   "id": "adc21ecd",
   "metadata": {},
   "outputs": [
    {
     "name": "stdout",
     "output_type": "stream",
     "text": [
      "Updating d45918e..ca6cf75\n",
      "Fast-forward (no commit created; -m option ignored)\n",
      " Git Version Control Check.ipynb | 509 ++++++++++++++++++++++++++++++++++++----\n",
      " newdatafolder1/newtexttile.txt  |   6 +-\n",
      " 2 files changed, 467 insertions(+), 48 deletions(-)\n"
     ]
    }
   ],
   "source": [
    "%%bash\n",
    "git merge -m \"Merging NewBranch2\" \"NewBranch2\""
   ]
  },
  {
   "cell_type": "code",
   "execution_count": 107,
   "id": "a8f941f7",
   "metadata": {},
   "outputs": [
    {
     "name": "stdout",
     "output_type": "stream",
     "text": [
      "  NewBranch2\n",
      "* main\n"
     ]
    }
   ],
   "source": [
    "%%bash\n",
    "git branch"
   ]
  },
  {
   "cell_type": "code",
   "execution_count": 108,
   "id": "f83eb90e",
   "metadata": {},
   "outputs": [
    {
     "name": "stdout",
     "output_type": "stream",
     "text": [
      "Deleted branch NewBranch2 (was ca6cf75).\n"
     ]
    }
   ],
   "source": [
    "%%bash\n",
    "git branch -d NewBranch2"
   ]
  },
  {
   "cell_type": "code",
   "execution_count": 109,
   "id": "1a7c0c95",
   "metadata": {},
   "outputs": [
    {
     "name": "stdout",
     "output_type": "stream",
     "text": [
      "* main\n"
     ]
    }
   ],
   "source": [
    "%%bash\n",
    "git branch"
   ]
  },
  {
   "cell_type": "code",
   "execution_count": null,
   "id": "8380b69b",
   "metadata": {},
   "outputs": [],
   "source": []
  }
 ],
 "metadata": {
  "kernelspec": {
   "display_name": "Python 3 (ipykernel)",
   "language": "python",
   "name": "python3"
  },
  "language_info": {
   "codemirror_mode": {
    "name": "ipython",
    "version": 3
   },
   "file_extension": ".py",
   "mimetype": "text/x-python",
   "name": "python",
   "nbconvert_exporter": "python",
   "pygments_lexer": "ipython3",
   "version": "3.9.8"
  }
 },
 "nbformat": 4,
 "nbformat_minor": 5
}
