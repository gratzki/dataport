{
 "cells": [
  {
   "cell_type": "code",
   "execution_count": 1,
   "id": "6d23fb58",
   "metadata": {},
   "outputs": [
    {
     "name": "stdout",
     "output_type": "stream",
     "text": [
      "Git Version Control Check.ipynb\n",
      "LW1.1 - Sourcing.ipynb\n",
      "addresses.csv\n",
      "biostats.csv\n"
     ]
    }
   ],
   "source": [
    "%%bash\n",
    "\n",
    "ls"
   ]
  },
  {
   "cell_type": "code",
   "execution_count": 2,
   "id": "bf4479f5",
   "metadata": {},
   "outputs": [],
   "source": [
    "%%bash\n",
    "\n",
    "mkdir newdatafolder1"
   ]
  },
  {
   "cell_type": "code",
   "execution_count": 3,
   "id": "6bad09a0",
   "metadata": {},
   "outputs": [
    {
     "name": "stdout",
     "output_type": "stream",
     "text": [
      "Git Version Control Check.ipynb  biostats.csv\r\n",
      "LW1.1 - Sourcing.ipynb           \u001b[1m\u001b[36mnewdatafolder1\u001b[m\u001b[m/\r\n",
      "addresses.csv\r\n"
     ]
    }
   ],
   "source": [
    "ls"
   ]
  },
  {
   "cell_type": "code",
   "execution_count": 6,
   "id": "ff03903b",
   "metadata": {},
   "outputs": [],
   "source": [
    "%%bash\n",
    "git config --global user.name \"Max Peshkoff\"\n",
    "git config --global user.email maximpeshk@gmail.com\n",
    "git config --global init.default branch main"
   ]
  },
  {
   "cell_type": "code",
   "execution_count": 7,
   "id": "a1a8a47c",
   "metadata": {},
   "outputs": [],
   "source": [
    "%%bash\n",
    "cd newdatafolder1/"
   ]
  },
  {
   "cell_type": "code",
   "execution_count": 8,
   "id": "7a3f331e",
   "metadata": {},
   "outputs": [
    {
     "name": "stderr",
     "output_type": "stream",
     "text": [
      "hint: Using 'master' as the name for the initial branch. This default branch name\n",
      "hint: is subject to change. To configure the initial branch name to use in all\n",
      "hint: of your new repositories, which will suppress this warning, call:\n",
      "hint: \n",
      "hint: \tgit config --global init.defaultBranch <name>\n",
      "hint: \n",
      "hint: Names commonly chosen instead of 'master' are 'main', 'trunk' and\n",
      "hint: 'development'. The just-created branch can be renamed via this command:\n",
      "hint: \n",
      "hint: \tgit branch -m <name>\n"
     ]
    },
    {
     "name": "stdout",
     "output_type": "stream",
     "text": [
      "Initialized empty Git repository in /Users/Dude/Desktop/datascience/.git/\n"
     ]
    }
   ],
   "source": [
    "%%bash\n",
    "git init"
   ]
  },
  {
   "cell_type": "code",
   "execution_count": 10,
   "id": "647fd845",
   "metadata": {},
   "outputs": [],
   "source": [
    "%%bash\n",
    "touch newtexttile.txt"
   ]
  },
  {
   "cell_type": "code",
   "execution_count": 11,
   "id": "ae0283f2",
   "metadata": {},
   "outputs": [
    {
     "name": "stdout",
     "output_type": "stream",
     "text": [
      "Git Version Control Check.ipynb  biostats.csv\r\n",
      "LW1.1 - Sourcing.ipynb           \u001b[1m\u001b[36mnewdatafolder1\u001b[m\u001b[m/\r\n",
      "addresses.csv                    newtexttile.txt\r\n"
     ]
    }
   ],
   "source": [
    "ls"
   ]
  },
  {
   "cell_type": "code",
   "execution_count": 12,
   "id": "1b80f901",
   "metadata": {},
   "outputs": [
    {
     "name": "stdout",
     "output_type": "stream",
     "text": [
      "On branch master\n",
      "\n",
      "No commits yet\n",
      "\n",
      "Untracked files:\n",
      "  (use \"git add <file>...\" to include in what will be committed)\n",
      "\t.ipynb_checkpoints/\n",
      "\tGit Version Control Check.ipynb\n",
      "\tLW1.1 - Sourcing.ipynb\n",
      "\taddresses.csv\n",
      "\tbiostats.csv\n",
      "\tnewtexttile.txt\n",
      "\n",
      "nothing added to commit but untracked files present (use \"git add\" to track)\n"
     ]
    }
   ],
   "source": [
    "%%bash\n",
    "git status"
   ]
  },
  {
   "cell_type": "code",
   "execution_count": 15,
   "id": "97238a48",
   "metadata": {},
   "outputs": [],
   "source": [
    "%%bash\n",
    "git add newtexttile.txt"
   ]
  },
  {
   "cell_type": "code",
   "execution_count": 16,
   "id": "bebee61b",
   "metadata": {},
   "outputs": [
    {
     "name": "stdout",
     "output_type": "stream",
     "text": [
      "On branch master\n",
      "\n",
      "No commits yet\n",
      "\n",
      "Changes to be committed:\n",
      "  (use \"git rm --cached <file>...\" to unstage)\n",
      "\tnew file:   newtexttile.txt\n",
      "\n",
      "Untracked files:\n",
      "  (use \"git add <file>...\" to include in what will be committed)\n",
      "\t.ipynb_checkpoints/\n",
      "\tGit Version Control Check.ipynb\n",
      "\tLW1.1 - Sourcing.ipynb\n",
      "\taddresses.csv\n",
      "\tbiostats.csv\n",
      "\n"
     ]
    }
   ],
   "source": [
    "%%bash\n",
    "git status"
   ]
  },
  {
   "cell_type": "code",
   "execution_count": 17,
   "id": "ff09f5bc",
   "metadata": {},
   "outputs": [],
   "source": [
    "%%bash\n",
    "git mv \"newtexttile.txt\" \"newdatafolder1/\""
   ]
  },
  {
   "cell_type": "code",
   "execution_count": 18,
   "id": "10a444a9",
   "metadata": {},
   "outputs": [
    {
     "name": "stdout",
     "output_type": "stream",
     "text": [
      "Git Version Control Check.ipynb\n",
      "LW1.1 - Sourcing.ipynb\n",
      "addresses.csv\n",
      "biostats.csv\n",
      "\u001b[1m\u001b[36mnewdatafolder1\u001b[m\u001b[m\n"
     ]
    }
   ],
   "source": [
    "%%bash\n",
    "ls"
   ]
  },
  {
   "cell_type": "code",
   "execution_count": 22,
   "id": "27a3d5d7",
   "metadata": {},
   "outputs": [
    {
     "name": "stdout",
     "output_type": "stream",
     "text": [
      "newtexttile.txt\n"
     ]
    }
   ],
   "source": [
    "%%bash\n",
    "cd newdatafolder1/\n",
    "ls"
   ]
  },
  {
   "cell_type": "code",
   "execution_count": 23,
   "id": "c3af7ff1",
   "metadata": {},
   "outputs": [
    {
     "name": "stdout",
     "output_type": "stream",
     "text": [
      "On branch master\n",
      "\n",
      "No commits yet\n",
      "\n",
      "Changes to be committed:\n",
      "  (use \"git rm --cached <file>...\" to unstage)\n",
      "\tnew file:   newdatafolder1/newtexttile.txt\n",
      "\n",
      "Untracked files:\n",
      "  (use \"git add <file>...\" to include in what will be committed)\n",
      "\t.ipynb_checkpoints/\n",
      "\tGit Version Control Check.ipynb\n",
      "\tLW1.1 - Sourcing.ipynb\n",
      "\taddresses.csv\n",
      "\tbiostats.csv\n",
      "\n"
     ]
    }
   ],
   "source": [
    "%%bash\n",
    "git status"
   ]
  },
  {
   "cell_type": "code",
   "execution_count": 25,
   "id": "fd5f0796",
   "metadata": {},
   "outputs": [
    {
     "name": "stdout",
     "output_type": "stream",
     "text": [
      "[master (root-commit) 0b3993c] created new text file and moved to new data folder\n",
      " 1 file changed, 0 insertions(+), 0 deletions(-)\n",
      " create mode 100644 newdatafolder1/newtexttile.txt\n"
     ]
    }
   ],
   "source": [
    "%%bash\n",
    "git commit -m\"created new text file and moved to new data folder\" "
   ]
  },
  {
   "cell_type": "code",
   "execution_count": 27,
   "id": "19e801a4",
   "metadata": {},
   "outputs": [
    {
     "name": "stdout",
     "output_type": "stream",
     "text": [
      "On branch master\n",
      "Untracked files:\n",
      "  (use \"git add <file>...\" to include in what will be committed)\n",
      "\t.ipynb_checkpoints/\n",
      "\tGit Version Control Check.ipynb\n",
      "\tLW1.1 - Sourcing.ipynb\n",
      "\taddresses.csv\n",
      "\tbiostats.csv\n",
      "\n",
      "nothing added to commit but untracked files present (use \"git add\" to track)\n"
     ]
    }
   ],
   "source": [
    "%%bash\n",
    "git status"
   ]
  },
  {
   "cell_type": "code",
   "execution_count": 29,
   "id": "a0b93895",
   "metadata": {},
   "outputs": [],
   "source": [
    "%%bash\n",
    "cd newdatafolder1/"
   ]
  },
  {
   "cell_type": "code",
   "execution_count": 30,
   "id": "c0427c60",
   "metadata": {},
   "outputs": [
    {
     "name": "stdout",
     "output_type": "stream",
     "text": [
      "Git Version Control Check.ipynb\n",
      "LW1.1 - Sourcing.ipynb\n",
      "addresses.csv\n",
      "biostats.csv\n",
      "\u001b[1m\u001b[36mnewdatafolder1\u001b[m\u001b[m\n"
     ]
    }
   ],
   "source": [
    "%%bash\n",
    "ls"
   ]
  },
  {
   "cell_type": "code",
   "execution_count": 31,
   "id": "6af2bdad",
   "metadata": {},
   "outputs": [
    {
     "name": "stdout",
     "output_type": "stream",
     "text": [
      "On branch master\n",
      "Changes not staged for commit:\n",
      "  (use \"git add <file>...\" to update what will be committed)\n",
      "  (use \"git restore <file>...\" to discard changes in working directory)\n",
      "\tmodified:   newdatafolder1/newtexttile.txt\n",
      "\n",
      "Untracked files:\n",
      "  (use \"git add <file>...\" to include in what will be committed)\n",
      "\t.ipynb_checkpoints/\n",
      "\tGit Version Control Check.ipynb\n",
      "\tLW1.1 - Sourcing.ipynb\n",
      "\taddresses.csv\n",
      "\tbiostats.csv\n",
      "\n",
      "no changes added to commit (use \"git add\" and/or \"git commit -a\")\n"
     ]
    }
   ],
   "source": [
    "%%bash\n",
    "git status"
   ]
  },
  {
   "cell_type": "code",
   "execution_count": 35,
   "id": "d1be6f1a",
   "metadata": {},
   "outputs": [
    {
     "name": "stdout",
     "output_type": "stream",
     "text": [
      "diff --git a/newdatafolder1/newtexttile.txt b/newdatafolder1/newtexttile.txt\n",
      "index e69de29..a12ee50 100644\n",
      "--- a/newdatafolder1/newtexttile.txt\n",
      "+++ b/newdatafolder1/newtexttile.txt\n",
      "@@ -0,0 +1 @@\n",
      "+Here is some inputted text\n",
      "\\ No newline at end of file\n"
     ]
    }
   ],
   "source": [
    "%%bash\n",
    "git diff"
   ]
  },
  {
   "cell_type": "code",
   "execution_count": 37,
   "id": "f398c75d",
   "metadata": {},
   "outputs": [
    {
     "name": "stdout",
     "output_type": "stream",
     "text": [
      "On branch master\n",
      "Changes not staged for commit:\n",
      "  (use \"git add <file>...\" to update what will be committed)\n",
      "  (use \"git restore <file>...\" to discard changes in working directory)\n",
      "\tmodified:   newdatafolder1/newtexttile.txt\n",
      "\n",
      "Untracked files:\n",
      "  (use \"git add <file>...\" to include in what will be committed)\n",
      "\t.ipynb_checkpoints/\n",
      "\tGit Version Control Check.ipynb\n",
      "\tLW1.1 - Sourcing.ipynb\n",
      "\taddresses.csv\n",
      "\tbiostats.csv\n",
      "\n",
      "no changes added to commit (use \"git add\" and/or \"git commit -a\")\n"
     ]
    }
   ],
   "source": [
    "%%bash\n",
    "git status"
   ]
  },
  {
   "cell_type": "code",
   "execution_count": 39,
   "id": "6dcc5e6d",
   "metadata": {},
   "outputs": [
    {
     "name": "stdout",
     "output_type": "stream",
     "text": [
      "[master f258523] text inputted into text file\n",
      " 1 file changed, 1 insertion(+)\n"
     ]
    }
   ],
   "source": [
    "%%bash\n",
    "git commit -a -m \"text inputted into text file\""
   ]
  },
  {
   "cell_type": "code",
   "execution_count": 40,
   "id": "406047dd",
   "metadata": {},
   "outputs": [
    {
     "name": "stdout",
     "output_type": "stream",
     "text": [
      "On branch master\n",
      "Untracked files:\n",
      "  (use \"git add <file>...\" to include in what will be committed)\n",
      "\t.ipynb_checkpoints/\n",
      "\tGit Version Control Check.ipynb\n",
      "\tLW1.1 - Sourcing.ipynb\n",
      "\taddresses.csv\n",
      "\tbiostats.csv\n",
      "\n",
      "nothing added to commit but untracked files present (use \"git add\" to track)\n"
     ]
    }
   ],
   "source": [
    "%%bash\n",
    "git status"
   ]
  },
  {
   "cell_type": "code",
   "execution_count": null,
   "id": "f23a4a99",
   "metadata": {},
   "outputs": [],
   "source": []
  }
 ],
 "metadata": {
  "kernelspec": {
   "display_name": "Python 3 (ipykernel)",
   "language": "python",
   "name": "python3"
  },
  "language_info": {
   "codemirror_mode": {
    "name": "ipython",
    "version": 3
   },
   "file_extension": ".py",
   "mimetype": "text/x-python",
   "name": "python",
   "nbconvert_exporter": "python",
   "pygments_lexer": "ipython3",
   "version": "3.9.8"
  }
 },
 "nbformat": 4,
 "nbformat_minor": 5
}
