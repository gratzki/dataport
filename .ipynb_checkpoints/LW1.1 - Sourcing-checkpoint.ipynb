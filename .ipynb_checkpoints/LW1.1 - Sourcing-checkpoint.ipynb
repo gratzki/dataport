{
 "cells": [
  {
   "cell_type": "markdown",
   "id": "b9894c2e",
   "metadata": {},
   "source": [
    "CSV import example"
   ]
  },
  {
   "cell_type": "code",
   "execution_count": 1,
   "id": "40f5eab8",
   "metadata": {
    "scrolled": false
   },
   "outputs": [
    {
     "name": "stdout",
     "output_type": "stream",
     "text": [
      "John,Doe,120 jefferson st.,Riverside, NJ, 08075\n",
      "Jack,McGinnis,220 hobo Av.,Phila, PA,09119\n",
      "\"John \"\"Da Man\"\"\",Repici,120 Jefferson St.,Riverside, NJ,08075\n",
      "Stephen,Tyler,\"7452 Terrace \"\"At the Plaza\"\" road\",SomeTown,SD, 91234\n",
      ",Blankman,,SomeTown, SD, 00298\n",
      "\"Joan \"\"the bone\"\", Anne\",Jet,\"9th, at Terrace plc\",Desert City,CO,00123\n"
     ]
    }
   ],
   "source": [
    "%%bash\n",
    "curl -s https://people.sc.fsu.edu/~jburkardt/data/csv/addresses.csv > addresses.csv\n",
    "cat addresses.csv"
   ]
  },
  {
   "cell_type": "code",
   "execution_count": 3,
   "id": "da179ee5",
   "metadata": {},
   "outputs": [],
   "source": [
    "import csv"
   ]
  },
  {
   "cell_type": "code",
   "execution_count": 4,
   "id": "8762ebd0",
   "metadata": {},
   "outputs": [
    {
     "name": "stdout",
     "output_type": "stream",
     "text": [
      "['John', 'Doe', '120 jefferson st.', 'Riverside', 'NJ', '08075']\n",
      "['Jack', 'McGinnis', '220 hobo Av.', 'Phila', 'PA', '09119']\n",
      "['John \"Da Man\"', 'Repici', '120 Jefferson St.', 'Riverside', 'NJ', '08075']\n",
      "['Stephen', 'Tyler', '7452 Terrace \"At the Plaza\" road', 'SomeTown', 'SD', '91234']\n",
      "['', 'Blankman', '', 'SomeTown', 'SD', '00298']\n",
      "['Joan \"the bone\", Anne', 'Jet', '9th, at Terrace plc', 'Desert City', 'CO', '00123']\n"
     ]
    }
   ],
   "source": [
    "with open('addresses.csv') as csvfile:\n",
    "    reader = csv.reader(csvfile,skipinitialspace=True)\n",
    "    for row in reader:\n",
    "        # row is a 'list'\n",
    "        print(row)"
   ]
  },
  {
   "cell_type": "code",
   "execution_count": 5,
   "id": "d1ab3e91",
   "metadata": {},
   "outputs": [
    {
     "data": {
      "text/plain": [
       "<_csv.reader at 0x104825eb0>"
      ]
     },
     "execution_count": 5,
     "metadata": {},
     "output_type": "execute_result"
    }
   ],
   "source": [
    "reader"
   ]
  },
  {
   "cell_type": "code",
   "execution_count": 6,
   "id": "51bf50c9",
   "metadata": {},
   "outputs": [
    {
     "data": {
      "text/plain": [
       "<_io.TextIOWrapper name='addresses.csv' mode='r' encoding='UTF-8'>"
      ]
     },
     "execution_count": 6,
     "metadata": {},
     "output_type": "execute_result"
    }
   ],
   "source": [
    "csvfile"
   ]
  },
  {
   "cell_type": "code",
   "execution_count": 7,
   "id": "f55f6a6d",
   "metadata": {},
   "outputs": [
    {
     "name": "stdout",
     "output_type": "stream",
     "text": [
      "Doe\n",
      "McGinnis\n",
      "Repici\n",
      "Tyler\n",
      "Blankman\n",
      "Jet\n"
     ]
    }
   ],
   "source": [
    "with open('addresses.csv') as csvfile:\n",
    "    reader = csv.reader(csvfile,skipinitialspace=True)\n",
    "    for row in reader:\n",
    "        # row is a 'list'\n",
    "        print(row[1])"
   ]
  },
  {
   "cell_type": "code",
   "execution_count": 11,
   "id": "ff58ae76",
   "metadata": {},
   "outputs": [
    {
     "name": "stdout",
     "output_type": "stream",
     "text": [
      "\"Name\",     \"Sex\", \"Age\", \"Height (in)\", \"Weight (lbs)\"\n",
      "\"Alex\",       \"M\",   41,       74,      170\n",
      "\"Bert\",       \"M\",   42,       68,      166\n"
     ]
    }
   ],
   "source": [
    "%%bash\n",
    "curl -s https://people.sc.fsu.edu/~jburkardt/data/csv/biostats.csv > biostats.csv\n",
    "head -n 3 biostats.csv"
   ]
  },
  {
   "cell_type": "code",
   "execution_count": 12,
   "id": "eb09bceb",
   "metadata": {},
   "outputs": [
    {
     "name": "stdout",
     "output_type": "stream",
     "text": [
      "Alex M 41\n",
      "Bert M 42\n",
      "Carl M 32\n",
      "Dave M 39\n",
      "Elly F 30\n",
      "Fran F 33\n",
      "Gwen F 26\n",
      "Hank M 30\n",
      "Ivan M 53\n",
      "Jake M 32\n",
      "Kate F 47\n",
      "Luke M 34\n",
      "Myra F 23\n",
      "Neil M 36\n",
      "Omar M 38\n",
      "Page F 31\n",
      "Quin M 29\n",
      "Ruth F 28\n"
     ]
    }
   ],
   "source": [
    "with open('biostats.csv') as csvfile:\n",
    "    reader = csv.DictReader(csvfile,skipinitialspace=True)\n",
    "    for row in reader:\n",
    "        # row is a 'list'\n",
    "        print(row['Name'],row['Sex'],row['Age'])"
   ]
  },
  {
   "cell_type": "code",
   "execution_count": null,
   "id": "c86285cc",
   "metadata": {},
   "outputs": [],
   "source": []
  }
 ],
 "metadata": {
  "kernelspec": {
   "display_name": "Python 3 (ipykernel)",
   "language": "python",
   "name": "python3"
  },
  "language_info": {
   "codemirror_mode": {
    "name": "ipython",
    "version": 3
   },
   "file_extension": ".py",
   "mimetype": "text/x-python",
   "name": "python",
   "nbconvert_exporter": "python",
   "pygments_lexer": "ipython3",
   "version": "3.9.8"
  }
 },
 "nbformat": 4,
 "nbformat_minor": 5
}
